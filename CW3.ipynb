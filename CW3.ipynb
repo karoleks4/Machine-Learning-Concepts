{
 "cells": [
  {
   "cell_type": "markdown",
   "metadata": {},
   "source": [
    "# Introductory applied machine learning (INFR10069)"
   ]
  },
  {
   "cell_type": "markdown",
   "metadata": {},
   "source": [
    "# Assignment 3: Object recognition"
   ]
  },
  {
   "cell_type": "markdown",
   "metadata": {},
   "source": [
    "## Marking Breakdown\n",
    "\n",
    "**70-100%** results/answer correct plus extra achievement at understanding or analysis of results. Clear explanations, evidence of creative or deeper thought will contribute to a higher grade.\n",
    "\n",
    "**60-69%** results/answer correct or nearly correct and well explained.\n",
    "\n",
    "**50-59%** results/answer in right direction but significant errors.\n",
    "\n",
    "**40-49%** some evidence that the student has gained some understanding, but not answered the questions\n",
    "properly.\n",
    "\n",
    "**0-39%** serious error or slack work."
   ]
  },
  {
   "cell_type": "markdown",
   "metadata": {},
   "source": [
    "## Mechanics\n",
    "\n",
    "Fill out this notebook, save it, and submit it **and a `.txt` file** (see Part 2) in answer to this assignment.\n",
    "**You need to submit these two files electronically as described below.**\n",
    "\n",
    "On a DICE environment, open the terminal, navigate to the location of this notebook, and submit this notebook file using the following command:\n",
    "\n",
    "`submit iaml cw2 07_Assignment_3.ipynb assignment_3_predictions.txt`\n",
    "\n",
    "What actually happens in the background is that your file is placed in a folder available to markers. If you submit a file with the same name into the same location, **it will *overwrite* your previous submission**. You can check the status of your submissions with the `show_submissions` command.\n",
    "\n",
    "**Distance Learners:** To copy your work up to DICE (such that you can use the `submit` command) you can use `scp` or `rsync` (you may need to install these yourself). You can copy files up using `student.ssh.inf.ed.ac.uk`, then ssh in to submit, e.g. (in a unix terminal):\n",
    "```\n",
    "filename1=07_Assignment_3.ipynb\n",
    "local_scp_filepath1=~/git/iaml2017/${filename1}\n",
    "filename2=assignment_3_predictions.txt\n",
    "local_scp_filepath2=~/git/iaml2017/${filename2}\n",
    "UUN=s0816700\n",
    "server_address=student.ssh.inf.ed.ac.uk\n",
    "scp -r ${local_scp_filepath1} ${UUN}@${server_address}:${filename1}\n",
    "scp -r ${local_scp_filepath2} ${UUN}@${server_address}:${filename2}\n",
    "# rsync -rl ${local_scp_filepath1} ${UUN}@${server_address}:${filename1}\n",
    "# rsync -rl ${local_scp_filepath2} ${UUN}@${server_address}:${filename2}\n",
    "ssh ${UUN}@${server_address}\n",
    "ssh student.login\n",
    "submit iaml cw2 07_Assignment_3.ipynb assignment_3_predictions.txt\n",
    "```\n",
    "\n",
    "**Late submissions:** The policy stated in the School of Informatics MSc Degree Guide is that normally you will not be allowed to submit coursework late. See http://www.inf.ed.ac.uk/teaching/years/msc/courseguide10.html#exam for exceptions to this, e.g. in case of serious medical illness or serious personal problems.\n",
    "\n",
    "**Collaboration:** You may discuss the assignment with your colleagues, provided that the writing that you submit is entirely your own. That is, you should NOT borrow actual text or code from other students. We ask that you provide a list of the people who you've had discussions with (if any).\n",
    "\n",
    "**Resubmission:** If you submit your file again, the previous submission is **overwritten**. We will mark the version that is in the submission folder at the deadline."
   ]
  },
  {
   "cell_type": "markdown",
   "metadata": {},
   "source": [
    "## Important Instructions\n",
    "\n",
    "1. You *MUST* have your environment set up as in the [README](https://github.com/JamesOwers/iaml2017) and you *must activate this environment before running this notebook*:\n",
    "```\n",
    "source activate iaml\n",
    "cd iaml_2017\n",
    "jupyter notebook\n",
    "# Navigate to this file\n",
    "```\n",
    "\n",
    "1. Wherever you are required to produce code you should use code cells, otherwise you should use markdown cells to report results and explain answers.\n",
    "\n",
    "1. The .csv files that you will be using are located at `./datasets` (the `datasets` directory is adjacent to this file).\n",
    "\n",
    "1. **IMPORTANT:** Keep your answers brief and concise. Most written questions can be answered with 2-3 lines of explanation."
   ]
  },
  {
   "cell_type": "markdown",
   "metadata": {},
   "source": [
    "## Imports\n",
    "\n",
    "Include all required imports and execute the cell below. It's typical to include package imports at the top of the file for clarity."
   ]
  },
  {
   "cell_type": "code",
   "execution_count": 54,
   "metadata": {},
   "outputs": [],
   "source": [
    "from __future__ import print_function, division\n",
    "%matplotlib inline\n",
    "import os\n",
    "import numpy as np \n",
    "import pandas as pd\n",
    "import matplotlib.pyplot as plt\n",
    "import seaborn as sns\n",
    "from sklearn.dummy import DummyClassifier\n",
    "from sklearn.linear_model import LogisticRegression\n",
    "from sklearn.preprocessing import StandardScaler\n",
    "from sklearn.cross_validation import KFold\n",
    "from sklearn.linear_model import LogisticRegressionCV\n",
    "from sklearn.ensemble import RandomForestClassifier\n",
    "from sklearn.svm import SVC"
   ]
  },
  {
   "cell_type": "markdown",
   "metadata": {},
   "source": [
    "## Description of the dataset\n",
    "In this assignment our goal is to recognize objects in images of realistic scenes. There are 19 different classes of object e.g. person, dog, cat, car, etc. The dataset derives from several thousands photographs harvested from the web. Each object of a relevant class has been manually annotated with a bounding box. Images can contain none, one or multiple objects of each class. We have prepared a [website](http://www.inf.ed.ac.uk/teaching/courses/iaml/2014/assts/asst3/images.html) where you can view the images.\n",
    "\n",
    "We are going to detect whether images contain a person or not - a binary classification problem. To save you time and to make the problem manageable with limited computational resources, we have preprocessed the dataset. We will use the [Bag of Visual Words](https://en.wikipedia.org/wiki/Bag-of-words_model_in_computer_vision) representation. Each column of the dataset (which is not an lable), refers to a 'visual word'. Each image is represented by a 500 dimensional vector that contains the normalized count for each of 500 different visual words present in the respective image (a similar representation is used for the spambase dataset, just for real words). See the Appendix at the bottom of the notebook for more information. The image data is thus a $N \\times 500$ dimensional matrix where `N` is the number of images.\n",
    "\n",
    "The full dataset has 520 attributes (dimensions). The first attribute (`imgID`) contains the image ID which allows you to associate a data point with an actual image. The next 500 attributes (`dim1`, ..., `dim500`) are a normalized count vector for each visual word. The last 19 attributes (`is_class`) are the labels - 1 means the class is present in the image. In most of the experiments (unless explicitly noted otherwise) you will only need the `is_person` attribute and the 500 dimensional feature vector. **Do not use the additional class indicator attributes as features** unless explicitly told to do so. \n",
    "\n",
    "In Part A we provide you with a training (`train_images partA.csv`) and a validation (`valid_images partA .csv`) dataset. In Part B we provide three data sets: a training set (`train_images partB.csv`), a validation set (`valid_images partB.csv`), and a test set (`test_images partB.csv`). The training and validation set contain valid labels. In the test set the labels are missing. The files are available from the GitHub repository. \n",
    "\n",
    "**Important**: *Throughout the assignment you will be given various versions of the dataset that are relevant\n",
    "to a particular question. Please be careful to use the correct version of the dataset when instructed to do so.\n",
    "If you use the wrong version of the dataset by mistake no marks will be awarded.*"
   ]
  },
  {
   "cell_type": "markdown",
   "metadata": {},
   "source": [
    "## 1. Exploration of the dataset [70%]"
   ]
  },
  {
   "cell_type": "markdown",
   "metadata": {},
   "source": [
    "### ========== Question 1.1 --- [1 mark] ==========\n",
    "Create two Pandas DataFrame objects called `train_A` and `valid_A` by loading the datasets `train_images_partA.csv` and `valid_images_partA.csv`. Display the number of data points and attributes in each of the two datasets."
   ]
  },
  {
   "cell_type": "code",
   "execution_count": 55,
   "metadata": {},
   "outputs": [
    {
     "name": "stdout",
     "output_type": "stream",
     "text": [
      "Number of data points: 2093, number of attributes: 520\n"
     ]
    }
   ],
   "source": [
    "# Your code goes here\n",
    "data_path_train = os.path.join(os.getcwd(), 'datasets', 'train_images_partA.csv')\n",
    "train_A = pd.read_csv(data_path_train, delimiter = ',')\n",
    "print('Number of data points: {}, number of attributes: {}'.format(train_A.shape[0], train_A.shape[1]))"
   ]
  },
  {
   "cell_type": "code",
   "execution_count": 56,
   "metadata": {},
   "outputs": [
    {
     "name": "stdout",
     "output_type": "stream",
     "text": [
      "Number of data points: 1113, number of attributes: 520\n"
     ]
    }
   ],
   "source": [
    "data_path_valid = os.path.join(os.getcwd(), 'datasets', 'valid_images_partA.csv')\n",
    "valid_A = pd.read_csv(data_path_valid, delimiter = ',')\n",
    "print('Number of data points: {}, number of attributes: {}'.format(valid_A.shape[0], valid_A.shape[1]))\n",
    "#valid_A.head(5)"
   ]
  },
  {
   "cell_type": "markdown",
   "metadata": {},
   "source": [
    "### ========== Question 1.2 --- [1 mark] ==========\n",
    "Display and inspect the first 10 instances in the training dataset."
   ]
  },
  {
   "cell_type": "code",
   "execution_count": 57,
   "metadata": {},
   "outputs": [
    {
     "data": {
      "text/html": [
       "<div>\n",
       "<style>\n",
       "    .dataframe thead tr:only-child th {\n",
       "        text-align: right;\n",
       "    }\n",
       "\n",
       "    .dataframe thead th {\n",
       "        text-align: left;\n",
       "    }\n",
       "\n",
       "    .dataframe tbody tr th {\n",
       "        vertical-align: top;\n",
       "    }\n",
       "</style>\n",
       "<table border=\"1\" class=\"dataframe\">\n",
       "  <thead>\n",
       "    <tr style=\"text-align: right;\">\n",
       "      <th></th>\n",
       "      <th>imgId</th>\n",
       "      <th>dim1</th>\n",
       "      <th>dim2</th>\n",
       "      <th>dim3</th>\n",
       "      <th>dim4</th>\n",
       "      <th>dim5</th>\n",
       "      <th>dim6</th>\n",
       "      <th>dim7</th>\n",
       "      <th>dim8</th>\n",
       "      <th>dim9</th>\n",
       "      <th>...</th>\n",
       "      <th>is_cow</th>\n",
       "      <th>is_diningtable</th>\n",
       "      <th>is_dog</th>\n",
       "      <th>is_horse</th>\n",
       "      <th>is_motorbike</th>\n",
       "      <th>is_person</th>\n",
       "      <th>is_pottedplant</th>\n",
       "      <th>is_sheep</th>\n",
       "      <th>is_sofa</th>\n",
       "      <th>is_tvmonitor</th>\n",
       "    </tr>\n",
       "  </thead>\n",
       "  <tbody>\n",
       "    <tr>\n",
       "      <th>0</th>\n",
       "      <td>2008_000008</td>\n",
       "      <td>0.002232</td>\n",
       "      <td>0.000558</td>\n",
       "      <td>0.002790</td>\n",
       "      <td>0.000837</td>\n",
       "      <td>0.001674</td>\n",
       "      <td>0.001953</td>\n",
       "      <td>0.001395</td>\n",
       "      <td>0.002232</td>\n",
       "      <td>0.003627</td>\n",
       "      <td>...</td>\n",
       "      <td>0</td>\n",
       "      <td>0</td>\n",
       "      <td>0</td>\n",
       "      <td>1</td>\n",
       "      <td>0</td>\n",
       "      <td>1</td>\n",
       "      <td>0</td>\n",
       "      <td>0</td>\n",
       "      <td>0</td>\n",
       "      <td>0</td>\n",
       "    </tr>\n",
       "    <tr>\n",
       "      <th>1</th>\n",
       "      <td>2008_000015</td>\n",
       "      <td>0.001563</td>\n",
       "      <td>0.000391</td>\n",
       "      <td>0.007422</td>\n",
       "      <td>0.003516</td>\n",
       "      <td>0.003906</td>\n",
       "      <td>0.005078</td>\n",
       "      <td>0.001953</td>\n",
       "      <td>0.002344</td>\n",
       "      <td>0.001953</td>\n",
       "      <td>...</td>\n",
       "      <td>0</td>\n",
       "      <td>0</td>\n",
       "      <td>0</td>\n",
       "      <td>0</td>\n",
       "      <td>0</td>\n",
       "      <td>0</td>\n",
       "      <td>0</td>\n",
       "      <td>0</td>\n",
       "      <td>0</td>\n",
       "      <td>0</td>\n",
       "    </tr>\n",
       "    <tr>\n",
       "      <th>2</th>\n",
       "      <td>2008_000019</td>\n",
       "      <td>0.000521</td>\n",
       "      <td>0.000000</td>\n",
       "      <td>0.000000</td>\n",
       "      <td>0.001042</td>\n",
       "      <td>0.001563</td>\n",
       "      <td>0.005729</td>\n",
       "      <td>0.000521</td>\n",
       "      <td>0.002083</td>\n",
       "      <td>0.003646</td>\n",
       "      <td>...</td>\n",
       "      <td>0</td>\n",
       "      <td>0</td>\n",
       "      <td>1</td>\n",
       "      <td>0</td>\n",
       "      <td>0</td>\n",
       "      <td>0</td>\n",
       "      <td>0</td>\n",
       "      <td>0</td>\n",
       "      <td>0</td>\n",
       "      <td>0</td>\n",
       "    </tr>\n",
       "    <tr>\n",
       "      <th>3</th>\n",
       "      <td>2008_000023</td>\n",
       "      <td>0.002976</td>\n",
       "      <td>0.002232</td>\n",
       "      <td>0.004464</td>\n",
       "      <td>0.000372</td>\n",
       "      <td>0.000372</td>\n",
       "      <td>0.002232</td>\n",
       "      <td>0.000000</td>\n",
       "      <td>0.003720</td>\n",
       "      <td>0.000000</td>\n",
       "      <td>...</td>\n",
       "      <td>0</td>\n",
       "      <td>0</td>\n",
       "      <td>0</td>\n",
       "      <td>0</td>\n",
       "      <td>0</td>\n",
       "      <td>1</td>\n",
       "      <td>0</td>\n",
       "      <td>0</td>\n",
       "      <td>0</td>\n",
       "      <td>1</td>\n",
       "    </tr>\n",
       "    <tr>\n",
       "      <th>4</th>\n",
       "      <td>2008_000028</td>\n",
       "      <td>0.001359</td>\n",
       "      <td>0.000340</td>\n",
       "      <td>0.001359</td>\n",
       "      <td>0.000340</td>\n",
       "      <td>0.001359</td>\n",
       "      <td>0.002038</td>\n",
       "      <td>0.002378</td>\n",
       "      <td>0.000000</td>\n",
       "      <td>0.003397</td>\n",
       "      <td>...</td>\n",
       "      <td>0</td>\n",
       "      <td>0</td>\n",
       "      <td>0</td>\n",
       "      <td>0</td>\n",
       "      <td>0</td>\n",
       "      <td>0</td>\n",
       "      <td>0</td>\n",
       "      <td>0</td>\n",
       "      <td>0</td>\n",
       "      <td>0</td>\n",
       "    </tr>\n",
       "    <tr>\n",
       "      <th>5</th>\n",
       "      <td>2008_000033</td>\n",
       "      <td>0.000000</td>\n",
       "      <td>0.006324</td>\n",
       "      <td>0.000372</td>\n",
       "      <td>0.000372</td>\n",
       "      <td>0.000372</td>\n",
       "      <td>0.000372</td>\n",
       "      <td>0.000744</td>\n",
       "      <td>0.008185</td>\n",
       "      <td>0.000372</td>\n",
       "      <td>...</td>\n",
       "      <td>0</td>\n",
       "      <td>0</td>\n",
       "      <td>0</td>\n",
       "      <td>0</td>\n",
       "      <td>0</td>\n",
       "      <td>0</td>\n",
       "      <td>0</td>\n",
       "      <td>0</td>\n",
       "      <td>0</td>\n",
       "      <td>0</td>\n",
       "    </tr>\n",
       "    <tr>\n",
       "      <th>6</th>\n",
       "      <td>2008_000036</td>\n",
       "      <td>0.000340</td>\n",
       "      <td>0.000000</td>\n",
       "      <td>0.004416</td>\n",
       "      <td>0.000340</td>\n",
       "      <td>0.000679</td>\n",
       "      <td>0.006114</td>\n",
       "      <td>0.001359</td>\n",
       "      <td>0.002717</td>\n",
       "      <td>0.003057</td>\n",
       "      <td>...</td>\n",
       "      <td>0</td>\n",
       "      <td>0</td>\n",
       "      <td>0</td>\n",
       "      <td>0</td>\n",
       "      <td>0</td>\n",
       "      <td>1</td>\n",
       "      <td>0</td>\n",
       "      <td>0</td>\n",
       "      <td>0</td>\n",
       "      <td>0</td>\n",
       "    </tr>\n",
       "    <tr>\n",
       "      <th>7</th>\n",
       "      <td>2008_000037</td>\n",
       "      <td>0.000837</td>\n",
       "      <td>0.002232</td>\n",
       "      <td>0.000279</td>\n",
       "      <td>0.000279</td>\n",
       "      <td>0.000837</td>\n",
       "      <td>0.000000</td>\n",
       "      <td>0.000279</td>\n",
       "      <td>0.006696</td>\n",
       "      <td>0.000000</td>\n",
       "      <td>...</td>\n",
       "      <td>0</td>\n",
       "      <td>0</td>\n",
       "      <td>0</td>\n",
       "      <td>0</td>\n",
       "      <td>0</td>\n",
       "      <td>0</td>\n",
       "      <td>0</td>\n",
       "      <td>0</td>\n",
       "      <td>0</td>\n",
       "      <td>0</td>\n",
       "    </tr>\n",
       "    <tr>\n",
       "      <th>8</th>\n",
       "      <td>2008_000041</td>\n",
       "      <td>0.002378</td>\n",
       "      <td>0.001359</td>\n",
       "      <td>0.004755</td>\n",
       "      <td>0.001019</td>\n",
       "      <td>0.003736</td>\n",
       "      <td>0.001359</td>\n",
       "      <td>0.001019</td>\n",
       "      <td>0.004076</td>\n",
       "      <td>0.003397</td>\n",
       "      <td>...</td>\n",
       "      <td>0</td>\n",
       "      <td>1</td>\n",
       "      <td>0</td>\n",
       "      <td>0</td>\n",
       "      <td>0</td>\n",
       "      <td>1</td>\n",
       "      <td>0</td>\n",
       "      <td>0</td>\n",
       "      <td>0</td>\n",
       "      <td>0</td>\n",
       "    </tr>\n",
       "    <tr>\n",
       "      <th>9</th>\n",
       "      <td>2008_000045</td>\n",
       "      <td>0.001019</td>\n",
       "      <td>0.000340</td>\n",
       "      <td>0.006454</td>\n",
       "      <td>0.001698</td>\n",
       "      <td>0.001359</td>\n",
       "      <td>0.003736</td>\n",
       "      <td>0.000000</td>\n",
       "      <td>0.004076</td>\n",
       "      <td>0.000000</td>\n",
       "      <td>...</td>\n",
       "      <td>0</td>\n",
       "      <td>0</td>\n",
       "      <td>0</td>\n",
       "      <td>0</td>\n",
       "      <td>0</td>\n",
       "      <td>0</td>\n",
       "      <td>0</td>\n",
       "      <td>0</td>\n",
       "      <td>0</td>\n",
       "      <td>0</td>\n",
       "    </tr>\n",
       "  </tbody>\n",
       "</table>\n",
       "<p>10 rows × 520 columns</p>\n",
       "</div>"
      ],
      "text/plain": [
       "         imgId      dim1      dim2      dim3      dim4      dim5      dim6  \\\n",
       "0  2008_000008  0.002232  0.000558  0.002790  0.000837  0.001674  0.001953   \n",
       "1  2008_000015  0.001563  0.000391  0.007422  0.003516  0.003906  0.005078   \n",
       "2  2008_000019  0.000521  0.000000  0.000000  0.001042  0.001563  0.005729   \n",
       "3  2008_000023  0.002976  0.002232  0.004464  0.000372  0.000372  0.002232   \n",
       "4  2008_000028  0.001359  0.000340  0.001359  0.000340  0.001359  0.002038   \n",
       "5  2008_000033  0.000000  0.006324  0.000372  0.000372  0.000372  0.000372   \n",
       "6  2008_000036  0.000340  0.000000  0.004416  0.000340  0.000679  0.006114   \n",
       "7  2008_000037  0.000837  0.002232  0.000279  0.000279  0.000837  0.000000   \n",
       "8  2008_000041  0.002378  0.001359  0.004755  0.001019  0.003736  0.001359   \n",
       "9  2008_000045  0.001019  0.000340  0.006454  0.001698  0.001359  0.003736   \n",
       "\n",
       "       dim7      dim8      dim9      ...       is_cow  is_diningtable  is_dog  \\\n",
       "0  0.001395  0.002232  0.003627      ...            0               0       0   \n",
       "1  0.001953  0.002344  0.001953      ...            0               0       0   \n",
       "2  0.000521  0.002083  0.003646      ...            0               0       1   \n",
       "3  0.000000  0.003720  0.000000      ...            0               0       0   \n",
       "4  0.002378  0.000000  0.003397      ...            0               0       0   \n",
       "5  0.000744  0.008185  0.000372      ...            0               0       0   \n",
       "6  0.001359  0.002717  0.003057      ...            0               0       0   \n",
       "7  0.000279  0.006696  0.000000      ...            0               0       0   \n",
       "8  0.001019  0.004076  0.003397      ...            0               1       0   \n",
       "9  0.000000  0.004076  0.000000      ...            0               0       0   \n",
       "\n",
       "   is_horse  is_motorbike  is_person  is_pottedplant  is_sheep  is_sofa  \\\n",
       "0         1             0          1               0         0        0   \n",
       "1         0             0          0               0         0        0   \n",
       "2         0             0          0               0         0        0   \n",
       "3         0             0          1               0         0        0   \n",
       "4         0             0          0               0         0        0   \n",
       "5         0             0          0               0         0        0   \n",
       "6         0             0          1               0         0        0   \n",
       "7         0             0          0               0         0        0   \n",
       "8         0             0          1               0         0        0   \n",
       "9         0             0          0               0         0        0   \n",
       "\n",
       "   is_tvmonitor  \n",
       "0             0  \n",
       "1             0  \n",
       "2             0  \n",
       "3             1  \n",
       "4             0  \n",
       "5             0  \n",
       "6             0  \n",
       "7             0  \n",
       "8             0  \n",
       "9             0  \n",
       "\n",
       "[10 rows x 520 columns]"
      ]
     },
     "execution_count": 57,
     "metadata": {},
     "output_type": "execute_result"
    }
   ],
   "source": [
    "# Your code goes here\n",
    "train_A.head(10)"
   ]
  },
  {
   "cell_type": "markdown",
   "metadata": {},
   "source": [
    "### ========== Question 1.3 --- [1 mark] ==========\n",
    "Select the attributes (i.e. input features) for training our classifiers. These should be the visual word normalised counts `dim1, dim2, ..., dim500`. Create a list of the **names** of the attributes of interest. "
   ]
  },
  {
   "cell_type": "code",
   "execution_count": 58,
   "metadata": {},
   "outputs": [
    {
     "data": {
      "text/plain": [
       "['dim1',\n",
       " 'dim2',\n",
       " 'dim3',\n",
       " 'dim4',\n",
       " 'dim5',\n",
       " 'dim6',\n",
       " 'dim7',\n",
       " 'dim8',\n",
       " 'dim9',\n",
       " 'dim10',\n",
       " 'dim11',\n",
       " 'dim12',\n",
       " 'dim13',\n",
       " 'dim14',\n",
       " 'dim15',\n",
       " 'dim16',\n",
       " 'dim17',\n",
       " 'dim18',\n",
       " 'dim19',\n",
       " 'dim20',\n",
       " 'dim21',\n",
       " 'dim22',\n",
       " 'dim23',\n",
       " 'dim24',\n",
       " 'dim25',\n",
       " 'dim26',\n",
       " 'dim27',\n",
       " 'dim28',\n",
       " 'dim29',\n",
       " 'dim30',\n",
       " 'dim31',\n",
       " 'dim32',\n",
       " 'dim33',\n",
       " 'dim34',\n",
       " 'dim35',\n",
       " 'dim36',\n",
       " 'dim37',\n",
       " 'dim38',\n",
       " 'dim39',\n",
       " 'dim40',\n",
       " 'dim41',\n",
       " 'dim42',\n",
       " 'dim43',\n",
       " 'dim44',\n",
       " 'dim45',\n",
       " 'dim46',\n",
       " 'dim47',\n",
       " 'dim48',\n",
       " 'dim49',\n",
       " 'dim50',\n",
       " 'dim51',\n",
       " 'dim52',\n",
       " 'dim53',\n",
       " 'dim54',\n",
       " 'dim55',\n",
       " 'dim56',\n",
       " 'dim57',\n",
       " 'dim58',\n",
       " 'dim59',\n",
       " 'dim60',\n",
       " 'dim61',\n",
       " 'dim62',\n",
       " 'dim63',\n",
       " 'dim64',\n",
       " 'dim65',\n",
       " 'dim66',\n",
       " 'dim67',\n",
       " 'dim68',\n",
       " 'dim69',\n",
       " 'dim70',\n",
       " 'dim71',\n",
       " 'dim72',\n",
       " 'dim73',\n",
       " 'dim74',\n",
       " 'dim75',\n",
       " 'dim76',\n",
       " 'dim77',\n",
       " 'dim78',\n",
       " 'dim79',\n",
       " 'dim80',\n",
       " 'dim81',\n",
       " 'dim82',\n",
       " 'dim83',\n",
       " 'dim84',\n",
       " 'dim85',\n",
       " 'dim86',\n",
       " 'dim87',\n",
       " 'dim88',\n",
       " 'dim89',\n",
       " 'dim90',\n",
       " 'dim91',\n",
       " 'dim92',\n",
       " 'dim93',\n",
       " 'dim94',\n",
       " 'dim95',\n",
       " 'dim96',\n",
       " 'dim97',\n",
       " 'dim98',\n",
       " 'dim99',\n",
       " 'dim100',\n",
       " 'dim101',\n",
       " 'dim102',\n",
       " 'dim103',\n",
       " 'dim104',\n",
       " 'dim105',\n",
       " 'dim106',\n",
       " 'dim107',\n",
       " 'dim108',\n",
       " 'dim109',\n",
       " 'dim110',\n",
       " 'dim111',\n",
       " 'dim112',\n",
       " 'dim113',\n",
       " 'dim114',\n",
       " 'dim115',\n",
       " 'dim116',\n",
       " 'dim117',\n",
       " 'dim118',\n",
       " 'dim119',\n",
       " 'dim120',\n",
       " 'dim121',\n",
       " 'dim122',\n",
       " 'dim123',\n",
       " 'dim124',\n",
       " 'dim125',\n",
       " 'dim126',\n",
       " 'dim127',\n",
       " 'dim128',\n",
       " 'dim129',\n",
       " 'dim130',\n",
       " 'dim131',\n",
       " 'dim132',\n",
       " 'dim133',\n",
       " 'dim134',\n",
       " 'dim135',\n",
       " 'dim136',\n",
       " 'dim137',\n",
       " 'dim138',\n",
       " 'dim139',\n",
       " 'dim140',\n",
       " 'dim141',\n",
       " 'dim142',\n",
       " 'dim143',\n",
       " 'dim144',\n",
       " 'dim145',\n",
       " 'dim146',\n",
       " 'dim147',\n",
       " 'dim148',\n",
       " 'dim149',\n",
       " 'dim150',\n",
       " 'dim151',\n",
       " 'dim152',\n",
       " 'dim153',\n",
       " 'dim154',\n",
       " 'dim155',\n",
       " 'dim156',\n",
       " 'dim157',\n",
       " 'dim158',\n",
       " 'dim159',\n",
       " 'dim160',\n",
       " 'dim161',\n",
       " 'dim162',\n",
       " 'dim163',\n",
       " 'dim164',\n",
       " 'dim165',\n",
       " 'dim166',\n",
       " 'dim167',\n",
       " 'dim168',\n",
       " 'dim169',\n",
       " 'dim170',\n",
       " 'dim171',\n",
       " 'dim172',\n",
       " 'dim173',\n",
       " 'dim174',\n",
       " 'dim175',\n",
       " 'dim176',\n",
       " 'dim177',\n",
       " 'dim178',\n",
       " 'dim179',\n",
       " 'dim180',\n",
       " 'dim181',\n",
       " 'dim182',\n",
       " 'dim183',\n",
       " 'dim184',\n",
       " 'dim185',\n",
       " 'dim186',\n",
       " 'dim187',\n",
       " 'dim188',\n",
       " 'dim189',\n",
       " 'dim190',\n",
       " 'dim191',\n",
       " 'dim192',\n",
       " 'dim193',\n",
       " 'dim194',\n",
       " 'dim195',\n",
       " 'dim196',\n",
       " 'dim197',\n",
       " 'dim198',\n",
       " 'dim199',\n",
       " 'dim200',\n",
       " 'dim201',\n",
       " 'dim202',\n",
       " 'dim203',\n",
       " 'dim204',\n",
       " 'dim205',\n",
       " 'dim206',\n",
       " 'dim207',\n",
       " 'dim208',\n",
       " 'dim209',\n",
       " 'dim210',\n",
       " 'dim211',\n",
       " 'dim212',\n",
       " 'dim213',\n",
       " 'dim214',\n",
       " 'dim215',\n",
       " 'dim216',\n",
       " 'dim217',\n",
       " 'dim218',\n",
       " 'dim219',\n",
       " 'dim220',\n",
       " 'dim221',\n",
       " 'dim222',\n",
       " 'dim223',\n",
       " 'dim224',\n",
       " 'dim225',\n",
       " 'dim226',\n",
       " 'dim227',\n",
       " 'dim228',\n",
       " 'dim229',\n",
       " 'dim230',\n",
       " 'dim231',\n",
       " 'dim232',\n",
       " 'dim233',\n",
       " 'dim234',\n",
       " 'dim235',\n",
       " 'dim236',\n",
       " 'dim237',\n",
       " 'dim238',\n",
       " 'dim239',\n",
       " 'dim240',\n",
       " 'dim241',\n",
       " 'dim242',\n",
       " 'dim243',\n",
       " 'dim244',\n",
       " 'dim245',\n",
       " 'dim246',\n",
       " 'dim247',\n",
       " 'dim248',\n",
       " 'dim249',\n",
       " 'dim250',\n",
       " 'dim251',\n",
       " 'dim252',\n",
       " 'dim253',\n",
       " 'dim254',\n",
       " 'dim255',\n",
       " 'dim256',\n",
       " 'dim257',\n",
       " 'dim258',\n",
       " 'dim259',\n",
       " 'dim260',\n",
       " 'dim261',\n",
       " 'dim262',\n",
       " 'dim263',\n",
       " 'dim264',\n",
       " 'dim265',\n",
       " 'dim266',\n",
       " 'dim267',\n",
       " 'dim268',\n",
       " 'dim269',\n",
       " 'dim270',\n",
       " 'dim271',\n",
       " 'dim272',\n",
       " 'dim273',\n",
       " 'dim274',\n",
       " 'dim275',\n",
       " 'dim276',\n",
       " 'dim277',\n",
       " 'dim278',\n",
       " 'dim279',\n",
       " 'dim280',\n",
       " 'dim281',\n",
       " 'dim282',\n",
       " 'dim283',\n",
       " 'dim284',\n",
       " 'dim285',\n",
       " 'dim286',\n",
       " 'dim287',\n",
       " 'dim288',\n",
       " 'dim289',\n",
       " 'dim290',\n",
       " 'dim291',\n",
       " 'dim292',\n",
       " 'dim293',\n",
       " 'dim294',\n",
       " 'dim295',\n",
       " 'dim296',\n",
       " 'dim297',\n",
       " 'dim298',\n",
       " 'dim299',\n",
       " 'dim300',\n",
       " 'dim301',\n",
       " 'dim302',\n",
       " 'dim303',\n",
       " 'dim304',\n",
       " 'dim305',\n",
       " 'dim306',\n",
       " 'dim307',\n",
       " 'dim308',\n",
       " 'dim309',\n",
       " 'dim310',\n",
       " 'dim311',\n",
       " 'dim312',\n",
       " 'dim313',\n",
       " 'dim314',\n",
       " 'dim315',\n",
       " 'dim316',\n",
       " 'dim317',\n",
       " 'dim318',\n",
       " 'dim319',\n",
       " 'dim320',\n",
       " 'dim321',\n",
       " 'dim322',\n",
       " 'dim323',\n",
       " 'dim324',\n",
       " 'dim325',\n",
       " 'dim326',\n",
       " 'dim327',\n",
       " 'dim328',\n",
       " 'dim329',\n",
       " 'dim330',\n",
       " 'dim331',\n",
       " 'dim332',\n",
       " 'dim333',\n",
       " 'dim334',\n",
       " 'dim335',\n",
       " 'dim336',\n",
       " 'dim337',\n",
       " 'dim338',\n",
       " 'dim339',\n",
       " 'dim340',\n",
       " 'dim341',\n",
       " 'dim342',\n",
       " 'dim343',\n",
       " 'dim344',\n",
       " 'dim345',\n",
       " 'dim346',\n",
       " 'dim347',\n",
       " 'dim348',\n",
       " 'dim349',\n",
       " 'dim350',\n",
       " 'dim351',\n",
       " 'dim352',\n",
       " 'dim353',\n",
       " 'dim354',\n",
       " 'dim355',\n",
       " 'dim356',\n",
       " 'dim357',\n",
       " 'dim358',\n",
       " 'dim359',\n",
       " 'dim360',\n",
       " 'dim361',\n",
       " 'dim362',\n",
       " 'dim363',\n",
       " 'dim364',\n",
       " 'dim365',\n",
       " 'dim366',\n",
       " 'dim367',\n",
       " 'dim368',\n",
       " 'dim369',\n",
       " 'dim370',\n",
       " 'dim371',\n",
       " 'dim372',\n",
       " 'dim373',\n",
       " 'dim374',\n",
       " 'dim375',\n",
       " 'dim376',\n",
       " 'dim377',\n",
       " 'dim378',\n",
       " 'dim379',\n",
       " 'dim380',\n",
       " 'dim381',\n",
       " 'dim382',\n",
       " 'dim383',\n",
       " 'dim384',\n",
       " 'dim385',\n",
       " 'dim386',\n",
       " 'dim387',\n",
       " 'dim388',\n",
       " 'dim389',\n",
       " 'dim390',\n",
       " 'dim391',\n",
       " 'dim392',\n",
       " 'dim393',\n",
       " 'dim394',\n",
       " 'dim395',\n",
       " 'dim396',\n",
       " 'dim397',\n",
       " 'dim398',\n",
       " 'dim399',\n",
       " 'dim400',\n",
       " 'dim401',\n",
       " 'dim402',\n",
       " 'dim403',\n",
       " 'dim404',\n",
       " 'dim405',\n",
       " 'dim406',\n",
       " 'dim407',\n",
       " 'dim408',\n",
       " 'dim409',\n",
       " 'dim410',\n",
       " 'dim411',\n",
       " 'dim412',\n",
       " 'dim413',\n",
       " 'dim414',\n",
       " 'dim415',\n",
       " 'dim416',\n",
       " 'dim417',\n",
       " 'dim418',\n",
       " 'dim419',\n",
       " 'dim420',\n",
       " 'dim421',\n",
       " 'dim422',\n",
       " 'dim423',\n",
       " 'dim424',\n",
       " 'dim425',\n",
       " 'dim426',\n",
       " 'dim427',\n",
       " 'dim428',\n",
       " 'dim429',\n",
       " 'dim430',\n",
       " 'dim431',\n",
       " 'dim432',\n",
       " 'dim433',\n",
       " 'dim434',\n",
       " 'dim435',\n",
       " 'dim436',\n",
       " 'dim437',\n",
       " 'dim438',\n",
       " 'dim439',\n",
       " 'dim440',\n",
       " 'dim441',\n",
       " 'dim442',\n",
       " 'dim443',\n",
       " 'dim444',\n",
       " 'dim445',\n",
       " 'dim446',\n",
       " 'dim447',\n",
       " 'dim448',\n",
       " 'dim449',\n",
       " 'dim450',\n",
       " 'dim451',\n",
       " 'dim452',\n",
       " 'dim453',\n",
       " 'dim454',\n",
       " 'dim455',\n",
       " 'dim456',\n",
       " 'dim457',\n",
       " 'dim458',\n",
       " 'dim459',\n",
       " 'dim460',\n",
       " 'dim461',\n",
       " 'dim462',\n",
       " 'dim463',\n",
       " 'dim464',\n",
       " 'dim465',\n",
       " 'dim466',\n",
       " 'dim467',\n",
       " 'dim468',\n",
       " 'dim469',\n",
       " 'dim470',\n",
       " 'dim471',\n",
       " 'dim472',\n",
       " 'dim473',\n",
       " 'dim474',\n",
       " 'dim475',\n",
       " 'dim476',\n",
       " 'dim477',\n",
       " 'dim478',\n",
       " 'dim479',\n",
       " 'dim480',\n",
       " 'dim481',\n",
       " 'dim482',\n",
       " 'dim483',\n",
       " 'dim484',\n",
       " 'dim485',\n",
       " 'dim486',\n",
       " 'dim487',\n",
       " 'dim488',\n",
       " 'dim489',\n",
       " 'dim490',\n",
       " 'dim491',\n",
       " 'dim492',\n",
       " 'dim493',\n",
       " 'dim494',\n",
       " 'dim495',\n",
       " 'dim496',\n",
       " 'dim497',\n",
       " 'dim498',\n",
       " 'dim499',\n",
       " 'dim500']"
      ]
     },
     "execution_count": 58,
     "metadata": {},
     "output_type": "execute_result"
    }
   ],
   "source": [
    "# Your code goes here\n",
    "names = train_A.columns[1:501].values.tolist()\n",
    "names"
   ]
  },
  {
   "cell_type": "markdown",
   "metadata": {},
   "source": [
    "### ========== Question 1.4 --- [1 mark] ==========\n",
    "By using the list from Question 1.3 now create 4 numpy arrays `X_tr`, `X_val`, `y_tr` and `y_val` in which to store the training features, validation features, training targets, and validation targets, respectively. Your target vectors should correspond to the `is_person` attribute of the training and validation sets. Display the dimensionalities (i.e shapes) of the 4 arrays. \n",
    "\n",
    "Check this carefully - you will be penalised in following questions if the data is not correct!"
   ]
  },
  {
   "cell_type": "code",
   "execution_count": 59,
   "metadata": {},
   "outputs": [
    {
     "name": "stdout",
     "output_type": "stream",
     "text": [
      "X_tr shape: (2093, 500)\n",
      "y_tr shape: (2093,)\n",
      "X_val shape: (1113, 500)\n",
      "y_val shape: (1113,)\n"
     ]
    }
   ],
   "source": [
    "# Your code goes here\n",
    "X_tr = train_A[names]\n",
    "y_tr = train_A['is_person']\n",
    "X_val = valid_A[names]\n",
    "y_val = valid_A['is_person']\n",
    "\n",
    "print('X_tr shape: {}'.format(X_tr.shape))\n",
    "print('y_tr shape: {}'.format(y_tr.shape))\n",
    "print('X_val shape: {}'.format(X_val.shape))\n",
    "print('y_val shape: {}'.format(y_val.shape))"
   ]
  },
  {
   "cell_type": "markdown",
   "metadata": {},
   "source": [
    "### ========== Question 1.5 --- [2 marks] ==========\n",
    "Create a [countplots](https://seaborn.github.io/generated/seaborn.countplot.html?highlight=countplot#seaborn.countplot) for the training and validation targets. Create a single figure, and put the two plots inside the single figure. Label axes appropriately and add a title to your plot. Use descriptive `xticklabels` instead of the default numeric ones."
   ]
  },
  {
   "cell_type": "code",
   "execution_count": 60,
   "metadata": {},
   "outputs": [
    {
     "data": {
      "image/png": "[encoded data removed]",
      "text/plain": [
       "<matplotlib.figure.Figure at 0x11c013c90>"
      ]
     },
     "metadata": {},
     "output_type": "display_data"
    }
   ],
   "source": [
    "# Your code goes here\n",
    "fig1 = plt.figure(figsize=(16, 6))\n",
    "ax1 = fig1.add_subplot(121)\n",
    "ax1 = sns.countplot(y_tr)\n",
    "ax1.set_ylim(0,1200)\n",
    "ax1.set_xlabel('')\n",
    "ax1.set_xticklabels(['Not person','Person'])\n",
    "ax1.set_title('Counter plot for training targets')\n",
    "\n",
    "ax2 = fig1.add_subplot(122)\n",
    "sns.countplot(y_val)\n",
    "ax2.set_ylim(0,1200)\n",
    "ax2.set_xlabel('')\n",
    "ax2.set_xticklabels(['Not person','Person'])\n",
    "ax2.set_title('Counter plot for validation targets')\n",
    "plt.show()"
   ]
  },
  {
   "cell_type": "markdown",
   "metadata": {},
   "source": [
    "### ========== Question 1.6 --- [1 mark] ==========\n",
    "We want to make a baseline classification accuracy to beat. Pick a baseline \"dummy\" classifier, describe in a sentence why you chose it, and report the accuracy it achieves on the validation set?"
   ]
  },
  {
   "cell_type": "markdown",
   "metadata": {},
   "source": [
    "*Your answer goes here*\n",
    "\n",
    "Since there are more data points labelled as 'not a person', I picked a classifier which classifies all data points as 'not person' (most common class; 0 for `is_person`)."
   ]
  },
  {
   "cell_type": "code",
   "execution_count": 61,
   "metadata": {},
   "outputs": [
    {
     "name": "stdout",
     "output_type": "stream",
     "text": [
      "The 'dummy' baseline classifier's classification accuracy score: 0.526504941599\n"
     ]
    }
   ],
   "source": [
    "# Your code goes here\n",
    "# class_counts = y_val.value_counts()\n",
    "# print('The \\'dummy\\' baseline classifier\\'s classification accuracy: {}'.\n",
    "#       format(class_counts[0] / class_counts.values.sum()))\n",
    "\n",
    "dummy_classifier = DummyClassifier(strategy='most_frequent').fit(X_tr, y_tr)\n",
    "sc = dummy_classifier.score(X_val, y_val)\n",
    "print('The \\'dummy\\' baseline classifier\\'s classification accuracy score: {}'.format(sc))"
   ]
  },
  {
   "cell_type": "markdown",
   "metadata": {},
   "source": [
    "### ========== Question 1.7 --- [3 marks] ==========\n",
    "Train a [`LogisticRegression`](http://scikit-learn.org/0.17/modules/generated/sklearn.linear_model.LogisticRegression.html) classifier using default settings, except for the `solver` parameter which you should set to `lbfgs`. Report the classification accuracy score on the training and validation sets and compare with the baseline. Comment on the results with 1-2 sentences. You may include any additional plot(s) if you wish to justify your explanation."
   ]
  },
  {
   "cell_type": "code",
   "execution_count": 62,
   "metadata": {},
   "outputs": [
    {
     "name": "stdout",
     "output_type": "stream",
     "text": [
      "Classification accuracy on training set:   0.55088389871\n",
      "Classification accuracy on validation set: 0.526504941599\n"
     ]
    }
   ],
   "source": [
    "# Your code goes here\n",
    "lr = LogisticRegression(solver='lbfgs')\n",
    "lr.fit(X_tr, y_tr)\n",
    "print('Classification accuracy on training set:   {}'.format(lr.score(X_tr, y_tr)))\n",
    "print('Classification accuracy on validation set: {}'.format(lr.score(X_val, y_val)))"
   ]
  },
  {
   "cell_type": "markdown",
   "metadata": {},
   "source": [
    "*Your answer goes here*\n",
    "\n",
    "Linear regression classifier performs very poorly, with slightly higher accuracy score on training set (0.55088) than our 'dummy' classifier on the validation set (0.52650). Moreover, linear regression classifier's accuracy score on validation set is exactly the same as dummy's classifier score (0.52650). Hence, linear regression classifier does not perform any better than the baseline model on an unseen data."
   ]
  },
  {
   "cell_type": "code",
   "execution_count": null,
   "metadata": {
    "collapsed": true
   },
   "outputs": [],
   "source": []
  },
  {
   "cell_type": "markdown",
   "metadata": {},
   "source": [
    "### ========== Question 1.8 --- [1 mark] ==========\n",
    "Display the means and standard deviations of the first 5 features in the training set. *Hint: you want to compute the means and standard deviations across the columns of your arrays. Make sure you make appropriate use of the `axis` parameter.*"
   ]
  },
  {
   "cell_type": "code",
   "execution_count": 63,
   "metadata": {
    "scrolled": false
   },
   "outputs": [
    {
     "name": "stdout",
     "output_type": "stream",
     "text": [
      "\n",
      "Feature: dim1\n",
      "Mean:               0.00175057763975\n",
      "Standard deviation: 0.00119309463423\n",
      "\n",
      "Feature: dim2\n",
      "Mean:               0.00075592259914\n",
      "Standard deviation: 0.0014063713685\n",
      "\n",
      "Feature: dim3\n",
      "Mean:               0.00431694792164\n",
      "Standard deviation: 0.00369343564645\n",
      "\n",
      "Feature: dim4\n",
      "Mean:               0.00185277926421\n",
      "Standard deviation: 0.00134049151505\n",
      "\n",
      "Feature: dim5\n",
      "Mean:               0.00227247539417\n",
      "Standard deviation: 0.00159811364214\n"
     ]
    }
   ],
   "source": [
    "# Your code goes here\n",
    "for col in X_tr.columns[0:5]:\n",
    "    print('\\nFeature: {}'.format(col))\n",
    "    print('Mean:               {}'.format(X_tr[col].mean(axis=0)))\n",
    "    print('Standard deviation: {}'.format(X_tr[col].std(axis=0)))"
   ]
  },
  {
   "cell_type": "markdown",
   "metadata": {},
   "source": [
    "### ========== Question 1.9 --- [3 marks] ==========\n",
    "Feature standardisation is a pre-processing technique used to transform data so that they have zero mean and unit standard deviation. For many algorithms, this is a very important step for training models (both regression and classification). Read about [feature standardisation](http://scikit-learn.org/0.17/modules/preprocessing.html) and make sure you understand what kind of transformation this method applies to the data.\n",
    "\n",
    "`Scikit-learn` offers a [class](http://scikit-learn.org/0.17/modules/generated/sklearn.preprocessing.StandardScaler.html) for feature standardisation. Instansiate a StandardScaler object and fit it using the **training features**. Use this fitted object to transform both your training and validation features to have a standard scale. \n",
    "\n",
    "Once your training and validation input data have been transformed, display the means and standard deviations of the first 5 attributes for **both** the training and validation sets. Are the results as you expected? Explain your answer in 2-3 sentences. Why didn't we use the validation set to standardise the data?\n",
    "\n",
    "**IMPORTANT: You should use the transformed data for the rest of this part.**"
   ]
  },
  {
   "cell_type": "code",
   "execution_count": 64,
   "metadata": {
    "scrolled": false
   },
   "outputs": [
    {
     "name": "stdout",
     "output_type": "stream",
     "text": [
      "Training set:\n",
      "\n",
      "Feature: dim0\n",
      "Mean:               -3.39485301367e-17\n",
      "Standard deviation: 1.0\n",
      "\n",
      "Feature: dim1\n",
      "Mean:               -2.20665445888e-17\n",
      "Standard deviation: 1.0\n",
      "\n",
      "Feature: dim2\n",
      "Mean:               2.44429416984e-16\n",
      "Standard deviation: 1.0\n",
      "\n",
      "Feature: dim3\n",
      "Mean:               1.42583826574e-16\n",
      "Standard deviation: 1.0\n",
      "\n",
      "Feature: dim4\n",
      "Mean:               -5.77125012323e-17\n",
      "Standard deviation: 1.0\n",
      "\n",
      "Validation set:\n",
      "\n",
      "Feature: dim0\n",
      "Mean:               -0.00550612324325\n",
      "Standard deviation: 1.0131088626\n",
      "\n",
      "Feature: dim1\n",
      "Mean:               -0.0382933020105\n",
      "Standard deviation: 0.969819492563\n",
      "\n",
      "Feature: dim2\n",
      "Mean:               0.109150976593\n",
      "Standard deviation: 1.04922849828\n",
      "\n",
      "Feature: dim3\n",
      "Mean:               0.0936931390572\n",
      "Standard deviation: 1.05684478815\n",
      "\n",
      "Feature: dim4\n",
      "Mean:               0.0305784372474\n",
      "Standard deviation: 0.974713362919\n"
     ]
    }
   ],
   "source": [
    "# Your code goes here\n",
    "ss = StandardScaler()\n",
    "ss.fit(X_tr)\n",
    "X_tr_std = ss.transform(X_tr)\n",
    "X_val_std = ss.transform(X_val)\n",
    "\n",
    "print('Training set:')\n",
    "for i in range(0,5):\n",
    "    print('\\nFeature: dim{}'.format(i))\n",
    "    print('Mean:               {}'.format(X_tr_std[:,i].mean(axis=0)))\n",
    "    print('Standard deviation: {}'.format(X_tr_std[:,i].std(axis=0)))\n",
    "    \n",
    "print('\\nValidation set:')\n",
    "for j in range(0,5):\n",
    "    print('\\nFeature: dim{}'.format(j))\n",
    "    print('Mean:               {}'.format(X_val_std[:,j].mean(axis=0)))\n",
    "    print('Standard deviation: {}'.format(X_val_std[:,j].std(axis=0)))"
   ]
  },
  {
   "cell_type": "markdown",
   "metadata": {},
   "source": [
    "*Your answer goes here*\n",
    "\n",
    "The results are as expected since `StandardScaler` class standardises features by removing the mean and scaling to unit variance, which means that the mean is expected to be 0 and standard deviation 1. These values are consistent for the standardised training set (`X_tr_std`; values for mean are practically 0) but are slightly different for standardised validation set (`X_val_std`). This is because the scaler was fitted with training set only (and not validation set which is not distributed in the exact same way as the training set) but the values are still close to the expected values for mean and standard deviation.\n",
    "Using the validation set to standardise the data would be cheating since validation set is not supposed to be seen and our model has to generalise as good as possible. We can only relay on the training set in this case."
   ]
  },
  {
   "cell_type": "markdown",
   "metadata": {},
   "source": [
    "### ========== Question 1.10 --- [3 marks] ==========\n",
    "By using the transformed input data, train a new `LogisticRegression` classifier. Again, set the `solver` parameter to `lbfgs` and use default settings for the other parameters. Report the classification accuracy on both the training and validation sets.\n",
    "\n",
    "Comment on how your model compares to the baseline classifier from Question 1.6? You may use additional plot(s) to support your explanation."
   ]
  },
  {
   "cell_type": "code",
   "execution_count": 65,
   "metadata": {},
   "outputs": [
    {
     "name": "stdout",
     "output_type": "stream",
     "text": [
      "Classification accuracy on training set: 0.810797897754\n",
      "Classification accuracy on validation set: 0.643306379155\n"
     ]
    }
   ],
   "source": [
    "# Your code goes here\n",
    "lr_std = LogisticRegression(solver='lbfgs')\n",
    "lr_std.fit(X_tr_std, y_tr)\n",
    "print('Classification accuracy on training set: {}'.format(lr_std.score(X_tr_std, y_tr)))\n",
    "print('Classification accuracy on validation set: {}'.format(lr_std.score(X_val_std, y_val)))"
   ]
  },
  {
   "cell_type": "markdown",
   "metadata": {},
   "source": [
    "*Your answer goes here*\n",
    "\n",
    "The new logistic regression classifier (fitted with standardised data), performs much better than the baseline classifier (Question 1.6.) and the previous logistic regression classifier (1.7.). The classification accuracy score for the validation set increased from 0.52650 (baseline classifier) to 0.64331 (new logistic regression classifier) which is a noticible difference.\n",
    "New classifier performed very good (classification accuracy score: 0.81080) on the training set which is due to the fact that this set was used during the 'fitting' stage so the classifier seen it before (as opposed to the validation set).\n",
    "\n",
    "The increase in classification accuracy for the new classifier compared to the one from Question 1.7. indicates that standardising the data influences the accuracy of a classifier significantly."
   ]
  },
  {
   "cell_type": "markdown",
   "metadata": {},
   "source": [
    "### ========== Question 1.11 --- [1 mark] ==========\n",
    "So far we have used default settings for training the logistic regression classifier. Now, we want to use [K-fold cross-validation](http://scikit-learn.org/0.17/modules/generated/sklearn.cross_validation.KFold.html) to optimise the regularisation parameter `C`. The regularisation parameter controls the degree to which we wish to penalise large magnitudes in the weight vector. This can help us prevent overfitting but, if set too high, could lead us to underfit too.\n",
    "\n",
    "Create a 3-fold cross-validation object. Set the `shuffle` parameter to `True` and the `random_state` to `0`. By using the cross-validation iterator, display the number of test samples for each fold."
   ]
  },
  {
   "cell_type": "code",
   "execution_count": 66,
   "metadata": {
    "scrolled": false
   },
   "outputs": [
    {
     "name": "stdout",
     "output_type": "stream",
     "text": [
      "Number of test samples in fold 1: 698\n",
      "Number of test samples in fold 2: 698\n",
      "Number of test samples in fold 3: 697\n"
     ]
    }
   ],
   "source": [
    "# Your code goes here\n",
    "count = 1\n",
    "kf = KFold(len(X_tr_std) , n_folds=3, shuffle=True, random_state=0)\n",
    "for train_index, test_index in kf:\n",
    "    print(\"Number of test samples in fold {}: {}\".format(count,len(test_index)))\n",
    "    count = count + 1"
   ]
  },
  {
   "cell_type": "markdown",
   "metadata": {},
   "source": [
    "### ========== Question 1.12 --- [2 marks] ========== \n",
    "Using the cross-validation iterator from the previous question, perform a search for the best value for `C`. \n",
    "\n",
    "We are going to loop over each CV fold, and each value of `C`. The values of `C` to search should be 20 equally-spaced values **in log space** ranging from `1e-5` to `1e5` *(hint: look at the `logspace()` function in numpy)*. \n",
    "\n",
    "Create a 2-dimensional array and, for each cross-validation fold and parameter setting pair, compute and store the classification accuracy score e.g. store the score of fold 0 with parameter setting 1 at score_array[0,1]. As previously, set the `solver` parameter to `lbfgs` and use default settings for the other parameters (except for `C` obviously!).\n",
    "\n",
    "*(hint: you could use two loops in your code; one iterating over CV folds and another one iterating over the values for `C`)*. "
   ]
  },
  {
   "cell_type": "code",
   "execution_count": 67,
   "metadata": {
    "scrolled": true
   },
   "outputs": [
    {
     "name": "stdout",
     "output_type": "stream",
     "text": [
      "Fold1 (C = 1e-05)\n",
      "Classifcation accuracy (test set):     0.573065902579\n",
      "\n",
      "Fold1 (C = 3.35981828628e-05)\n",
      "Classifcation accuracy (test set):     0.62893982808\n",
      "\n",
      "Fold1 (C = 0.000112883789168)\n",
      "Classifcation accuracy (test set):     0.667621776504\n",
      "\n",
      "Fold1 (C = 0.000379269019073)\n",
      "Classifcation accuracy (test set):     0.671919770774\n",
      "\n",
      "Fold1 (C = 0.0012742749857)\n",
      "Classifcation accuracy (test set):     0.687679083095\n",
      "\n",
      "Fold1 (C = 0.00428133239872)\n",
      "Classifcation accuracy (test set):     0.696275071633\n",
      "\n",
      "Fold1 (C = 0.0143844988829)\n",
      "Classifcation accuracy (test set):     0.674785100287\n",
      "\n",
      "Fold1 (C = 0.0483293023857)\n",
      "Classifcation accuracy (test set):     0.670487106017\n",
      "\n",
      "Fold1 (C = 0.162377673919)\n",
      "Classifcation accuracy (test set):     0.65329512894\n",
      "\n",
      "Fold1 (C = 0.545559478117)\n",
      "Classifcation accuracy (test set):     0.659025787966\n",
      "\n",
      "Fold1 (C = 1.83298071083)\n",
      "Classifcation accuracy (test set):     0.659025787966\n",
      "\n",
      "Fold1 (C = 6.15848211066)\n",
      "Classifcation accuracy (test set):     0.65329512894\n",
      "\n",
      "Fold1 (C = 20.6913808111)\n",
      "Classifcation accuracy (test set):     0.64899713467\n",
      "\n",
      "Fold1 (C = 69.5192796178)\n",
      "Classifcation accuracy (test set):     0.646131805158\n",
      "\n",
      "Fold1 (C = 233.572146909)\n",
      "Classifcation accuracy (test set):     0.646131805158\n",
      "\n",
      "Fold1 (C = 784.759970351)\n",
      "Classifcation accuracy (test set):     0.64899713467\n",
      "\n",
      "Fold1 (C = 2636.65089873)\n",
      "Classifcation accuracy (test set):     0.646131805158\n",
      "\n",
      "Fold1 (C = 8858.6679041)\n",
      "Classifcation accuracy (test set):     0.646131805158\n",
      "\n",
      "Fold1 (C = 29763.5144163)\n",
      "Classifcation accuracy (test set):     0.64899713467\n",
      "\n",
      "Fold1 (C = 100000.0)\n",
      "Classifcation accuracy (test set):     0.64899713467\n",
      "\n",
      "-----------------------------------------\n",
      "Fold2 (C = 1e-05)\n",
      "Classifcation accuracy (test set):     0.545845272206\n",
      "\n",
      "Fold2 (C = 3.35981828628e-05)\n",
      "Classifcation accuracy (test set):     0.631805157593\n",
      "\n",
      "Fold2 (C = 0.000112883789168)\n",
      "Classifcation accuracy (test set):     0.694842406877\n",
      "\n",
      "Fold2 (C = 0.000379269019073)\n",
      "Classifcation accuracy (test set):     0.719197707736\n",
      "\n",
      "Fold2 (C = 0.0012742749857)\n",
      "Classifcation accuracy (test set):     0.729226361032\n",
      "\n",
      "Fold2 (C = 0.00428133239872)\n",
      "Classifcation accuracy (test set):     0.734957020057\n",
      "\n",
      "Fold2 (C = 0.0143844988829)\n",
      "Classifcation accuracy (test set):     0.702005730659\n",
      "\n",
      "Fold2 (C = 0.0483293023857)\n",
      "Classifcation accuracy (test set):     0.674785100287\n",
      "\n",
      "Fold2 (C = 0.162377673919)\n",
      "Classifcation accuracy (test set):     0.654727793696\n",
      "\n",
      "Fold2 (C = 0.545559478117)\n",
      "Classifcation accuracy (test set):     0.636103151862\n",
      "\n",
      "Fold2 (C = 1.83298071083)\n",
      "Classifcation accuracy (test set):     0.631805157593\n",
      "\n",
      "Fold2 (C = 6.15848211066)\n",
      "Classifcation accuracy (test set):     0.63323782235\n",
      "\n",
      "Fold2 (C = 20.6913808111)\n",
      "Classifcation accuracy (test set):     0.626074498567\n",
      "\n",
      "Fold2 (C = 69.5192796178)\n",
      "Classifcation accuracy (test set):     0.627507163324\n",
      "\n",
      "Fold2 (C = 233.572146909)\n",
      "Classifcation accuracy (test set):     0.627507163324\n",
      "\n",
      "Fold2 (C = 784.759970351)\n",
      "Classifcation accuracy (test set):     0.626074498567\n",
      "\n",
      "Fold2 (C = 2636.65089873)\n",
      "Classifcation accuracy (test set):     0.626074498567\n",
      "\n",
      "Fold2 (C = 8858.6679041)\n",
      "Classifcation accuracy (test set):     0.626074498567\n",
      "\n",
      "Fold2 (C = 29763.5144163)\n",
      "Classifcation accuracy (test set):     0.627507163324\n",
      "\n",
      "Fold2 (C = 100000.0)\n",
      "Classifcation accuracy (test set):     0.626074498567\n",
      "\n",
      "-----------------------------------------\n",
      "Fold3 (C = 1e-05)\n",
      "Classifcation accuracy (test set):     0.54806312769\n",
      "\n",
      "Fold3 (C = 3.35981828628e-05)\n",
      "Classifcation accuracy (test set):     0.635581061693\n",
      "\n",
      "Fold3 (C = 0.000112883789168)\n",
      "Classifcation accuracy (test set):     0.642754662841\n",
      "\n",
      "Fold3 (C = 0.000379269019073)\n",
      "Classifcation accuracy (test set):     0.655667144907\n",
      "\n",
      "Fold3 (C = 0.0012742749857)\n",
      "Classifcation accuracy (test set):     0.680057388809\n",
      "\n",
      "Fold3 (C = 0.00428133239872)\n",
      "Classifcation accuracy (test set):     0.700143472023\n",
      "\n",
      "Fold3 (C = 0.0143844988829)\n",
      "Classifcation accuracy (test set):     0.681492109039\n",
      "\n",
      "Fold3 (C = 0.0483293023857)\n",
      "Classifcation accuracy (test set):     0.670014347202\n",
      "\n",
      "Fold3 (C = 0.162377673919)\n",
      "Classifcation accuracy (test set):     0.662840746055\n",
      "\n",
      "Fold3 (C = 0.545559478117)\n",
      "Classifcation accuracy (test set):     0.64418938307\n",
      "\n",
      "Fold3 (C = 1.83298071083)\n",
      "Classifcation accuracy (test set):     0.632711621234\n",
      "\n",
      "Fold3 (C = 6.15848211066)\n",
      "Classifcation accuracy (test set):     0.625538020086\n",
      "\n",
      "Fold3 (C = 20.6913808111)\n",
      "Classifcation accuracy (test set):     0.624103299857\n",
      "\n",
      "Fold3 (C = 69.5192796178)\n",
      "Classifcation accuracy (test set):     0.624103299857\n",
      "\n",
      "Fold3 (C = 233.572146909)\n",
      "Classifcation accuracy (test set):     0.624103299857\n",
      "\n",
      "Fold3 (C = 784.759970351)\n",
      "Classifcation accuracy (test set):     0.624103299857\n",
      "\n",
      "Fold3 (C = 2636.65089873)\n",
      "Classifcation accuracy (test set):     0.624103299857\n",
      "\n",
      "Fold3 (C = 8858.6679041)\n",
      "Classifcation accuracy (test set):     0.624103299857\n",
      "\n",
      "Fold3 (C = 29763.5144163)\n",
      "Classifcation accuracy (test set):     0.624103299857\n",
      "\n",
      "Fold3 (C = 100000.0)\n",
      "Classifcation accuracy (test set):     0.624103299857\n",
      "\n",
      "-----------------------------------------\n"
     ]
    }
   ],
   "source": [
    "# Your code goes here\n",
    "c = np.logspace(-5,5,20)\n",
    "acc_sc = np.zeros([3,20])\n",
    "fold = 0\n",
    "\n",
    "for train_index, test_index in kf:\n",
    "    X_train_kf = X_tr_std[train_index]\n",
    "    y_train_kf = y_tr[train_index]\n",
    "    X_test_kf = X_tr_std[test_index]\n",
    "    y_test_kf = y_tr[test_index]\n",
    "    \n",
    "    for i in range(0,20):\n",
    "        lr_kf = LogisticRegression(solver='lbfgs', C=c[i])\n",
    "        lr_kf.fit(X_train_kf,y_train_kf)\n",
    "        print(\"Fold{} (C = {})\".format(fold+1, c[i]))\n",
    "        print('Classifcation accuracy (test set):     {}\\n'.format(lr_kf.score(X_test_kf, y_test_kf)))\n",
    "        acc_sc[fold, i] = lr_kf.score(X_test_kf, y_test_kf)\n",
    "    fold = fold + 1\n",
    "    print(\"-----------------------------------------\")"
   ]
  },
  {
   "cell_type": "markdown",
   "metadata": {},
   "source": [
    "### ========== Question 1.13 --- [1 mark] ========== \n",
    "Plot the mean classification performance (across CV folds) of the logistic regression classifier against the regularisation parameter `C` by using the range from Question 1.12. Use a logarithmic scale for the x-axis and label both axes appropriately. "
   ]
  },
  {
   "cell_type": "code",
   "execution_count": 68,
   "metadata": {},
   "outputs": [
    {
     "data": {
      "image/png": "[encoded data removed]",
      "text/plain": [
       "<matplotlib.figure.Figure at 0x1265e8710>"
      ]
     },
     "metadata": {},
     "output_type": "display_data"
    }
   ],
   "source": [
    "# Your code goes here\n",
    "mean_c = []\n",
    "for i in range(0,20):\n",
    "    mean_c.append(np.mean(acc_sc[:,i]))\n",
    "    \n",
    "fig2 = plt.figure(figsize=(12, 8))\n",
    "plt.plot(c, mean_c)\n",
    "plt.xscale('log')\n",
    "plt.xlabel('C (log scale)')\n",
    "plt.ylabel('Mean classification performance')\n",
    "plt.title('Mean classification performance of the logistic regression classifier against the regularisation parameter C')\n",
    "plt.show()"
   ]
  },
  {
   "cell_type": "markdown",
   "metadata": {},
   "source": [
    "### ========== Question 1.14 --- [2 marks] ==========\n",
    "Display the optimal value for the regularisation parameter `C` determined by the search results from Question 1.12. Similarly to Question 1.13, consider the mean classifiation accuracy across CV folds. By using the optimal value (i.e. the one that yields the highest average classification accuracy) train a new `LogisticRegression` classifier and report the classification accuracy on the validation set. *(Hint: Do not pick the optimal value \"by hand\", instead use an appropriate numpy function).*"
   ]
  },
  {
   "cell_type": "code",
   "execution_count": 69,
   "metadata": {},
   "outputs": [
    {
     "name": "stdout",
     "output_type": "stream",
     "text": [
      "Optimal value for C:                                   0.00428133239872\n",
      "Classification accuracy score with optimal value of C: 0.696316262354\n"
     ]
    }
   ],
   "source": [
    "# Your code goes here\n",
    "c_opt = c[np.argmax(mean_c)]\n",
    "lr_opt = LogisticRegression(solver='lbfgs', C=c_opt)\n",
    "lr_opt.fit(X_tr_std,y_tr)\n",
    "print('Optimal value for C:                                   {}'.format(c_opt))\n",
    "print('Classification accuracy score with optimal value of C: {}'.format(lr_opt.score(X_val_std,y_val)))"
   ]
  },
  {
   "cell_type": "markdown",
   "metadata": {},
   "source": [
    "### ========== Question 1.15 --- [1 mark] ========== \n",
    "Scikit-learn offers a [`LogisticRegressionCV`](http://scikit-learn.org/0.17/modules/generated/sklearn.linear_model.LogisticRegressionCV.html) module which implements Logistic Regression with builtin cross-validation to find out the optimal `C` parameter. You can specify the range for the `C` parameter, as well as the cross-validation method you want to use with the `Cs` and `cv` parameters, respectively. Use the `C` range you set up in Question 1.12 and the 3-fold cross-validation iterator from Question 1.11. Once again, train the models by using the `lbfgs` optimisation method and display the optimal value for the parameter `C`. Finally, display the classification accuracy on the validation set. Check your results are consistent with those from Question 1.14!"
   ]
  },
  {
   "cell_type": "code",
   "execution_count": 70,
   "metadata": {},
   "outputs": [
    {
     "name": "stdout",
     "output_type": "stream",
     "text": [
      "Optimal value for C:                                   0.00428133239872\n",
      "Classification accuracy score with optimal value of C: 0.696316262354\n"
     ]
    }
   ],
   "source": [
    "# Your code goes here\n",
    "lrCV = LogisticRegressionCV(solver='lbfgs', Cs=c, cv=kf)\n",
    "lrCV.fit(X_tr_std,y_tr)\n",
    "print('Optimal value for C:                                   {}'.format(lrCV.C_[0]))\n",
    "print('Classification accuracy score with optimal value of C: {}'.format(lrCV.score(X_val_std,y_val)))"
   ]
  },
  {
   "cell_type": "markdown",
   "metadata": {},
   "source": [
    "### ========== Question 1.16 --- [1 mark] ==========\n",
    "Now, we want to validate the importance of various features for classification. For this purpose, we will use a [`RandomForestClassifier`](http://scikit-learn.org/0.17/modules/generated/sklearn.ensemble.RandomForestClassifier.html) (you might want to refer to Lab_3 if you are unsure how we can estimate feature importances with decision tree and random forest models).\n",
    "\n",
    "Initialise a random forest classifier and fit the model by using training data only and 500 trees (i.e. `n_estimators`). Set the `RandomState` equal to 42 to ensure reproducible results. Report the accuracy score on both the training and validation sets."
   ]
  },
  {
   "cell_type": "code",
   "execution_count": 71,
   "metadata": {},
   "outputs": [
    {
     "name": "stdout",
     "output_type": "stream",
     "text": [
      "Classification accuracy on training set:   1.0\n",
      "Classification accuracy on validation set: 0.692722371968\n"
     ]
    }
   ],
   "source": [
    "# Your code goes here\n",
    "rf = RandomForestClassifier(n_estimators=500, random_state=42)\n",
    "rf.fit(X_tr_std,y_tr)\n",
    "print('Classification accuracy on training set:   {}'.format(rf.score(X_tr_std, y_tr)))\n",
    "print('Classification accuracy on validation set: {}'.format(rf.score(X_val_std, y_val)))"
   ]
  },
  {
   "cell_type": "markdown",
   "metadata": {},
   "source": [
    "### ========== Question 1.17 --- [2 marks] ==========\n",
    "Comment on the results above. Do you find the discrepancy between training and validation accuracies surprising?"
   ]
  },
  {
   "cell_type": "markdown",
   "metadata": {},
   "source": [
    "*Your answer goes here*\n",
    "\n",
    "The discrapancy between training and validation accuracies is not surprising in case of random forest classifiers since it is always expected that the accuracy on the training set will be 1.0. This is because, no matter the data, the tree for the training set will be created in a way that each point in the training set will have a path to the leaf of the tree (length of the full depth of that tree).\n",
    "\n",
    "The discrepancy will result from the fact that the tree is perfectly fitted for the previously seen data (training set) so it will not fit the unseen data that well. \n",
    "\n",
    "However, we can improve the tree prerformance on the validation set by using various techiniques such a pruning."
   ]
  },
  {
   "cell_type": "markdown",
   "metadata": {},
   "source": [
    "### ========== Question 1.18 --- [2 marks] ==========\n",
    "By using the random forest model from the previous question order the features by descending importance and display the names of the 50 most important features."
   ]
  },
  {
   "cell_type": "code",
   "execution_count": 72,
   "metadata": {
    "scrolled": true
   },
   "outputs": [
    {
     "name": "stdout",
     "output_type": "stream",
     "text": [
      "Top 50 features (name, importance):\n",
      "\n",
      "dim21, 0.00757195057013\n",
      "dim51, 0.00755943221497\n",
      "dim360, 0.00703154028838\n",
      "dim4, 0.006192970537\n",
      "dim479, 0.00605406750455\n",
      "dim76, 0.00602620868388\n",
      "dim283, 0.00581056195777\n",
      "dim461, 0.00560584890536\n",
      "dim343, 0.00545133226507\n",
      "dim398, 0.00485916109112\n",
      "dim348, 0.00478323052424\n",
      "dim74, 0.00474192781298\n",
      "dim485, 0.004716045279\n",
      "dim356, 0.00470221813828\n",
      "dim330, 0.00464009536507\n",
      "dim217, 0.00460583757878\n",
      "dim263, 0.00457740415797\n",
      "dim222, 0.00421813280535\n",
      "dim134, 0.00413136545819\n",
      "dim500, 0.00406379480242\n",
      "dim274, 0.00404162520612\n",
      "dim254, 0.00400195792221\n",
      "dim206, 0.00388999587352\n",
      "dim423, 0.00386738528953\n",
      "dim347, 0.00381305997817\n",
      "dim17, 0.00372777792295\n",
      "dim326, 0.00370432369558\n",
      "dim90, 0.00370317266118\n",
      "dim92, 0.00370079881013\n",
      "dim329, 0.00368721036265\n",
      "dim214, 0.00366764591427\n",
      "dim322, 0.00361343387665\n",
      "dim289, 0.00359534691254\n",
      "dim54, 0.00359095875174\n",
      "dim440, 0.00358102136993\n",
      "dim427, 0.00357612054712\n",
      "dim73, 0.00346179304642\n",
      "dim35, 0.00346132800764\n",
      "dim77, 0.00341442465437\n",
      "dim312, 0.00336311726374\n",
      "dim315, 0.00333696658313\n",
      "dim96, 0.00331222937581\n",
      "dim288, 0.00330801711156\n",
      "dim483, 0.00325855575359\n",
      "dim299, 0.00325088075626\n",
      "dim48, 0.00320584715146\n",
      "dim442, 0.00317135329836\n",
      "dim201, 0.00305610348291\n",
      "dim344, 0.0030115927968\n",
      "dim294, 0.00300563500379\n"
     ]
    }
   ],
   "source": [
    "# Your code goes here\n",
    "idx = (-(rf.feature_importances_)).argsort()[:50]\n",
    "print('Top 50 features (name, importance):\\n')\n",
    "for i in idx:\n",
    "    print('{}, {}'.format(X_tr.columns.values[i],rf.feature_importances_[i]))"
   ]
  },
  {
   "cell_type": "markdown",
   "metadata": {},
   "source": [
    "### ========== Question 1.19 --- [3 marks] ==========\n",
    "Next, we would like to test the performance of support vector machines. Train three support vector classifiers with the following kernels: linear, radial basis function, and polynomial. Report the classification accuracy of each of the three classifiers on both the training and validation sets."
   ]
  },
  {
   "cell_type": "code",
   "execution_count": 73,
   "metadata": {},
   "outputs": [
    {
     "name": "stdout",
     "output_type": "stream",
     "text": [
      "SVM with linear kernel:\n",
      "Classification accuracy on training set:   0.842331581462\n",
      "Classification accuracy on validation set: 0.638814016173\n",
      "\n",
      "SVM with radial basis function kernel:\n",
      "Classification accuracy on training set:   0.910654562828\n",
      "Classification accuracy on validation set: 0.729559748428\n",
      "\n",
      "SVM with polynomial kernel:\n",
      "Classification accuracy on training set:   0.990922121357\n",
      "Classification accuracy on validation set: 0.701707097934\n"
     ]
    }
   ],
   "source": [
    "# Your code goes here\n",
    "svc_lin = SVC(kernel='linear')\n",
    "svc_lin.fit(X_tr_std, y_tr)\n",
    "print('SVM with linear kernel:')\n",
    "print('Classification accuracy on training set:   {}'.format(svc_lin.score(X_tr_std, y_tr)))\n",
    "print('Classification accuracy on validation set: {}'.format(svc_lin.score(X_val_std, y_val)))\n",
    "\n",
    "svc_rbf = SVC(kernel='rbf')\n",
    "svc_rbf.fit(X_tr_std, y_tr)\n",
    "print('\\nSVM with radial basis function kernel:')\n",
    "print('Classification accuracy on training set:   {}'.format(svc_rbf.score(X_tr_std, y_tr)))\n",
    "print('Classification accuracy on validation set: {}'.format(svc_rbf.score(X_val_std, y_val)))\n",
    "\n",
    "svc_poly = SVC(kernel='poly')\n",
    "svc_poly.fit(X_tr_std, y_tr)\n",
    "print('\\nSVM with polynomial kernel:')\n",
    "print('Classification accuracy on training set:   {}'.format(svc_poly.score(X_tr_std, y_tr)))\n",
    "print('Classification accuracy on validation set: {}'.format(svc_poly.score(X_val_std, y_val)))"
   ]
  },
  {
   "cell_type": "markdown",
   "metadata": {},
   "source": [
    "### ========== Question 1.20 --- [3 marks] ==========\n",
    "At this point, we would like to get an idea of what kind of decision boundaries we can get with the three types of SVM kernels we introduced in the previous question. For visualisation, however, we can only make use of 2D input data. For this purpose, we select to use the 21st and 76th columns of our training features (*hint: remember that Python uses 0-based indexing*). \n",
    "\n",
    "Execute the cell below to define a useful function which we will be using to plot the decision boundaries *(it is also not a bad idea to try to understand what this functions does)*. \n",
    "\n",
    "Then train three distinct SVM classifiers by using the 2D input data mentioned above and default parameters:\n",
    "* a linear SVC\n",
    "* an RBF SVC \n",
    "* a polynomial SVC\n",
    "\n",
    "Finally, create a list containing the three classifiers you have just trained. Use this list as an input to the provided function along with the used training features and observe the outcome. You can use the additional `title` parameter to set the titles in the subplots. Comment on the shape of the boundaries and what this means for classification accuracy in 1-2 sentences.\n",
    "\n",
    "*(Acknowledgement: this Question has been heavily based on [this example](http://scikit-learn.org/0.17/auto_examples/svm/plot_iris.html) from scikit-learn's documentation.)*"
   ]
  },
  {
   "cell_type": "code",
   "execution_count": 74,
   "metadata": {
    "collapsed": true
   },
   "outputs": [],
   "source": [
    "def show_svc_decision_boundaries(clfs, X, title=None):\n",
    "    \"\"\"Plots decision boundaries for classifiers with 2D inputs.\n",
    "    \n",
    "    Parameters\n",
    "    ----------\n",
    "    clf : list\n",
    "        Classifiers for which decision boundaries will be displayed.\n",
    "    X : array\n",
    "        Input features used to train the classifiers.\n",
    "    title : list, optional\n",
    "        Titles for classifiers.\n",
    "    \n",
    "    \"\"\"\n",
    "    \n",
    "    assert X.shape[1] == 2 # Input should be 2D\n",
    "    if title is not None:\n",
    "        assert len(clfs) == len(title)\n",
    "    \n",
    "    h = .04 # step size in the mesh\n",
    "    x_min, x_max = X[:, 0].min() - 1, X[:, 0].max() + 1\n",
    "    y_min, y_max = X[:, 1].min() - 1, X[:, 1].max() + 1\n",
    "    xx, yy = np.meshgrid(np.arange(x_min, x_max, h),\n",
    "                         np.arange(y_min, y_max, h))\n",
    "    plt.figure(figsize=(15,5))\n",
    "    for i, clf in enumerate(clfs):\n",
    "        plt.subplot(1, len(clfs), i + 1)\n",
    "        plt.subplots_adjust(wspace=0.4, hspace=0.4)\n",
    "        Z = clf.predict(np.c_[xx.ravel(), yy.ravel()])\n",
    "        Z = Z.reshape(xx.shape)\n",
    "        plt.contourf(xx, yy, Z, cmap=plt.cm.Paired, alpha=0.8)\n",
    "        # Training points\n",
    "        plt.scatter(X[:, 0], X[:, 1], c=y_tr, cmap=plt.cm.Paired)\n",
    "        plt.xlabel('Feature 1')\n",
    "        plt.ylabel('Feature 2')\n",
    "        plt.xlim(xx.min(), xx.max())\n",
    "        plt.ylim(yy.min(), yy.max())\n",
    "        plt.xticks(())\n",
    "        plt.yticks(())\n",
    "        if title is not None:\n",
    "            plt.title(title[i])"
   ]
  },
  {
   "cell_type": "code",
   "execution_count": 75,
   "metadata": {},
   "outputs": [
    {
     "data": {
      "image/png": "[encoded data removed]",
      "text/plain": [
       "<matplotlib.figure.Figure at 0x125ed7c50>"
      ]
     },
     "metadata": {},
     "output_type": "display_data"
    }
   ],
   "source": [
    "# Your code goes here\n",
    "X_svm = X_tr_std[:,[20,75]]\n",
    "\n",
    "svc_lin2d = SVC(kernel='linear')\n",
    "svc_lin2d.fit(X_svm, y_tr)\n",
    "\n",
    "svc_rbf2d = SVC(kernel='rbf')\n",
    "svc_rbf2d.fit(X_svm, y_tr)\n",
    "\n",
    "svc_poly2d = SVC(kernel='poly')\n",
    "svc_poly2d.fit(X_svm, y_tr)\n",
    "\n",
    "clfs = [svc_lin2d, svc_rbf2d, svc_poly2d]\n",
    "title = ['SVM with linear kernel', 'SVM with radial basis function kernel', 'SVM with polynomial kernel']\n",
    "\n",
    "show_svc_decision_boundaries(clfs, X_svm, title)"
   ]
  },
  {
   "cell_type": "markdown",
   "metadata": {},
   "source": [
    "*Your answer goes here*\n",
    "\n",
    "The plots and decission boundaries for each classifier look as expected. The decision boundary for the SVM with linear kernel is a straight line and it seems least accurate for classification which matches the accuracies calculatd in question 1.19. (0.63881 on validation set and 0.84233 on training set). The same applies to  SVMs with radial basis function and with polynomial kernels. The latter achieved the highest accuracy on the training set and this is indicated in the decision boundary, which looks like the most appropriate for the given data-points."
   ]
  },
  {
   "cell_type": "markdown",
   "metadata": {},
   "source": [
    "### ========== Question 1.21 --- [5 marks] ==========\n",
    "So far we have used default parameters for training the SVM classifiers. Now we want to tune the parameters by using cross-validation. \n",
    "\n",
    "By using the `K-fold` iterator from Question 1.11 and training data only, estimate the classification accuracy of an SVM classifier with RBF kernel, while you vary the penalty parameter `C` in a logarithmic range `np.logspace(-2, 3, 10)`. Set the kernel coefficient parameter `gamma` to `auto` for this question. \n",
    "\n",
    "Plot the mean cross-validated classification accuracy against the regularisation parameter `C` by using a log-scale for the x-axis. Display the highest obtained mean accuracy score and the value of `C` which yielded it. Label axes appropriately. \n",
    "\n",
    "Finally, train a classifier by using the optimal value for this parameter (without using cross-validation at this stage) and report the classification accuracy on the training and validation sets. "
   ]
  },
  {
   "cell_type": "code",
   "execution_count": 76,
   "metadata": {
    "scrolled": false
   },
   "outputs": [
    {
     "data": {
      "image/png": "[encoded data removed]",
      "text/plain": [
       "<matplotlib.figure.Figure at 0x11b795a90>"
      ]
     },
     "metadata": {},
     "output_type": "display_data"
    },
    {
     "name": "stdout",
     "output_type": "stream",
     "text": [
      "Optimal value for C:                                 1.6681005372\n",
      "Mean accuracy score for SVM with optimal value of C: 0.715230644637\n",
      "\n",
      "SVM with optimal value of C:\n",
      "Classification accuracy on training set:   0.974677496417\n",
      "Classification accuracy on validation set: 0.727762803235\n"
     ]
    }
   ],
   "source": [
    "# Your code goes here\n",
    "c = np.logspace(-2, 3, 10)\n",
    "acc_sc = np.zeros([3,10])\n",
    "fold = 0\n",
    "\n",
    "for train_index, test_index in kf:\n",
    "    X_train_kf = X_tr_std[train_index]\n",
    "    y_train_kf = y_tr[train_index]\n",
    "    X_test_kf = X_tr_std[test_index]\n",
    "    y_test_kf = y_tr[test_index]\n",
    "    \n",
    "    for i in range(0,10):\n",
    "        svc_kf = SVC(kernel='rbf', gamma='auto', C=c[i])\n",
    "        svc_kf.fit(X_train_kf,y_train_kf)\n",
    "        acc_sc[fold, i] = svc_kf.score(X_test_kf, y_test_kf)\n",
    "    fold = fold + 1\n",
    "\n",
    "    \n",
    "mean_c = []\n",
    "for i in range(0,10):\n",
    "    mean_c.append(np.mean(acc_sc[:,i]))\n",
    "    \n",
    "fig3 = plt.figure(figsize=(12, 8))\n",
    "plt.plot(c, mean_c)\n",
    "plt.xscale('log')\n",
    "plt.xlabel('C (log scale)')\n",
    "plt.ylabel('Mean classification accuracy')\n",
    "plt.title('Cross-validation mean classification accuracy of the SVM (\\'rbf\\' kernel) against the regularisation parameter C')\n",
    "plt.show()\n",
    "\n",
    "c_opt = c[np.argmax(mean_c)]\n",
    "print('Optimal value for C:                                 {}'.format(c_opt))\n",
    "print('Mean accuracy score for SVM with optimal value of C: {}'.format(np.max(mean_c)))\n",
    "\n",
    "svc_opt = SVC(kernel='rbf', gamma='auto', C=c_opt)\n",
    "svc_opt.fit(X_tr_std,y_tr)\n",
    "print('\\nSVM with optimal value of C:')\n",
    "print('Classification accuracy on training set:   {}'.format(svc_opt.score(X_tr_std, y_tr)))\n",
    "print('Classification accuracy on validation set: {}'.format(svc_opt.score(X_val_std, y_val)))"
   ]
  },
  {
   "cell_type": "markdown",
   "metadata": {},
   "source": [
    "### ========== Question 1.22 --- [5 marks] ==========\n",
    "Now we turn to the kernel coefficient `gamma` parameter. By using the same procedure as in the previous question, estimate the classification accuracy of an SVM classifier with RBF kernel while you vary the `gamma` parameter in a logarithmic range `logspace(-5, 0, 10)`. Fix the penalty parameter `C=1.0`.\n",
    "\n",
    "Plot the mean cross-validated classification accuracy against the parameter `gamma` by using a log-scale for the x-axis. Display the highest obtained mean accuracy score and the value of `gamma` which yielded it.  Label axes appropriately.\n",
    "\n",
    "Finally, train a classifier by using the optimal value for this parameter (without using cross-validation at this stage) and report the classification accuracy on the training and validation sets. "
   ]
  },
  {
   "cell_type": "code",
   "execution_count": 77,
   "metadata": {},
   "outputs": [
    {
     "data": {
      "image/png": "[encoded data removed]",
      "text/plain": [
       "<matplotlib.figure.Figure at 0x11b797fd0>"
      ]
     },
     "metadata": {},
     "output_type": "display_data"
    },
    {
     "name": "stdout",
     "output_type": "stream",
     "text": [
      "Optimal value for gamma:                                 0.0016681005372\n",
      "Mean accuracy score for SVM with optimal value of gamma: 0.716185754475\n",
      "\n",
      "SVM with optimal value of gamma:\n",
      "Classification accuracy on training set:   0.891065456283\n",
      "Classification accuracy on validation set: 0.726864330638\n"
     ]
    }
   ],
   "source": [
    "# Your code goes here\n",
    "g = np.logspace(-5, 0, 10)\n",
    "acc_sc = np.zeros([3,10])\n",
    "fold = 0\n",
    "\n",
    "for train_index, test_index in kf:\n",
    "    X_train_kf = X_tr_std[train_index]\n",
    "    y_train_kf = y_tr[train_index]\n",
    "    X_test_kf = X_tr_std[test_index]\n",
    "    y_test_kf = y_tr[test_index]\n",
    "    \n",
    "    for i in range(0,10):\n",
    "        svc_kf = SVC(kernel='rbf', gamma=g[i], C=1.0)\n",
    "        svc_kf.fit(X_train_kf, y_train_kf)\n",
    "        acc_sc[fold, i] = svc_kf.score(X_test_kf, y_test_kf)\n",
    "    fold = fold + 1\n",
    "    \n",
    "mean_g = []\n",
    "for i in range(0,10):\n",
    "    mean_g.append(np.mean(acc_sc[:,i]))\n",
    "    \n",
    "fig4 = plt.figure(figsize=(12, 8))\n",
    "plt.plot(g, mean_g)\n",
    "plt.xscale('log')\n",
    "plt.xlabel('Gamma (log scale)')\n",
    "plt.ylabel('Mean classification accuracy')\n",
    "plt.title('Cross-validation mean classification accuracy of the SVM (\\'rbf\\' kernel) against parameter gamma')\n",
    "plt.show()\n",
    "\n",
    "g_opt = g[np.argmax(mean_g)]\n",
    "print('Optimal value for gamma:                                 {}'.format(g_opt))\n",
    "print('Mean accuracy score for SVM with optimal value of gamma: {}'.format(np.max(mean_g)))\n",
    "\n",
    "svc_opt_g = SVC(kernel='rbf', gamma=g_opt, C=1.0)\n",
    "svc_opt_g.fit(X_tr_std,y_tr)\n",
    "print('\\nSVM with optimal value of gamma:')\n",
    "print('Classification accuracy on training set:   {}'.format(svc_opt_g.score(X_tr_std, y_tr)))\n",
    "print('Classification accuracy on validation set: {}'.format(svc_opt_g.score(X_val_std, y_val)))"
   ]
  },
  {
   "cell_type": "markdown",
   "metadata": {},
   "source": [
    "### ========== Question 1.23 --- [7 marks] ==========\n",
    "Now we wish to tune both the `C` and `gamma` parameters simultaneously. To save computational time, we will now constrain the parameter search space. Define a `4 X 4` grid for the two parameters, as follows:\n",
    "* `C`: `np.logspace(-2, 1, 4)`\n",
    "* `gamma`: `np.logspace(-4, -1, 4)`\n",
    "\n",
    "Estimate the mean cross-validated classification accuracy by using training data only and all possible configurations for the two parameters. \n",
    "\n",
    "Use a [heatmap](https://seaborn.github.io/generated/seaborn.heatmap.html?highlight=heatmap#seaborn.heatmap) to visualise the mean cross-validated classification accuracy for all `C`-`gamma` pairs. Label axes appropriately and display the values for `C` and `gamma` for the best performing configuration. \n",
    "\n",
    "Finally, by using the optimal configuration, train a classifier (without using cross-validation) and report the classification accuracy on the training and validation sets."
   ]
  },
  {
   "cell_type": "code",
   "execution_count": 78,
   "metadata": {
    "scrolled": false
   },
   "outputs": [
    {
     "data": {
      "image/png": "[encoded data removed]",
      "text/plain": [
       "<matplotlib.figure.Figure at 0x11d484050>"
      ]
     },
     "metadata": {},
     "output_type": "display_data"
    },
    {
     "name": "stdout",
     "output_type": "stream",
     "text": [
      "Optimal value for gamma:                                       0.01\n",
      "Optimal value for C:                                           0.1\n",
      "Mean accuracy score for SVM with optimal value of gamma and C: 0.712362574494\n",
      "\n",
      "SVM with optimal value of gamma and C:\n",
      "Classification accuracy on training set:   0.55088389871\n",
      "Classification accuracy on validation set: 0.526504941599\n"
     ]
    }
   ],
   "source": [
    "# Your code goes here\n",
    "c = np.logspace(-2, 1, 4)\n",
    "g = np.logspace(-4, -1, 4)\n",
    "acc_sc = np.zeros([3,4,4])\n",
    "fold = 0\n",
    "\n",
    "for train_index, test_index in kf:\n",
    "    X_train_kf = X_tr_std[train_index]\n",
    "    y_train_kf = y_tr[train_index]\n",
    "    X_test_kf = X_tr_std[test_index]\n",
    "    y_test_kf = y_tr[test_index]\n",
    "    \n",
    "    for i_g in range(0,4):\n",
    "        for i_c in range(0,4):\n",
    "            svc_kf = SVC(kernel='rbf', gamma=g[i_g], C=c[i_c])\n",
    "            svc_kf.fit(X_train_kf, y_train_kf)\n",
    "            acc_sc[fold, i_c, i_g] = svc_kf.score(X_test_kf, y_test_kf)\n",
    "    fold = fold + 1\n",
    "    \n",
    "mean_gc = np.zeros([4,4])\n",
    "for i in range(0,4):\n",
    "    for j in range(0,4):\n",
    "        mean_gc[i,j] = np.mean(acc_sc[:,i,j])\n",
    "    \n",
    "fig5 = plt.figure(figsize=(9, 6))\n",
    "ax1 = sns.heatmap(mean_gc, yticklabels=g, xticklabels=c, annot=True, cmap='YlGnBu')\n",
    "ax1.set_xlabel('C')\n",
    "ax1.set_ylabel('Gamma')\n",
    "plt.show()\n",
    "\n",
    "opt = np.argmax(mean_gc)\n",
    "i,j = divmod(opt,4)\n",
    "\n",
    "g_opt = g[i]\n",
    "c_opt = c[j]\n",
    "print('Optimal value for gamma:                                       {}'.format(g_opt))\n",
    "print('Optimal value for C:                                           {}'.format(c_opt))\n",
    "print('Mean accuracy score for SVM with optimal value of gamma and C: {}'.format(np.max(mean_gc)))\n",
    "\n",
    "svc_opt_gc = SVC(kernel='rbf', gamma=g_opt, C=c_opt)\n",
    "svc_opt_gc.fit(X_tr_std,y_tr)\n",
    "print('\\nSVM with optimal value of gamma and C:')\n",
    "print('Classification accuracy on training set:   {}'.format(svc_opt_gc.score(X_tr_std, y_tr)))\n",
    "print('Classification accuracy on validation set: {}'.format(svc_opt_gc.score(X_val_std, y_val)))"
   ]
  },
  {
   "cell_type": "markdown",
   "metadata": {},
   "source": [
    "### ========== Question 1.24 --- [3 marks] ==========\n",
    "Is the classification accuracy on the validation set higher than in previous questions (1.22-1.23)? If not, can you explain why? Can you think of a way of further improving the performance of the classifier? You don't need to implement your suggestion at this stage. Would there be any associated problems with your suggested approach? "
   ]
  },
  {
   "cell_type": "markdown",
   "metadata": {},
   "source": [
    "*Your answer goes here*\n",
    "\n",
    "The classification accuracy on the validation set for optimal `gamma` and `C` (question 1.23.) is almost the same as the accuracy on the same set for classifiers from questions 1.21. and 1.22. This is because (in question 1.23.) we picked very similar values for `gamma` and `C` as for the questions 1.21 and 1.22. separately.\n",
    "\n",
    "We culd improve our classifier further by searching for more optimal values of `gamma` and `C` by searching around the 'optimal' values from question 1.23. (around 0.001 for `gamma` and around 1 for `C`). However, if we want to consider enough amount of values, this might be computationally expensive and it could take much more time (without any significant difference in the accuracy as we observed before)."
   ]
  },
  {
   "cell_type": "markdown",
   "metadata": {},
   "source": [
    "### ========== Question 1.25 --- [5 marks] ==========\n",
    "Now we want to evaluate the performance of an SVM classifier with polynomial kernel. Once again, we will tune the `degree` parameter by using cross-validation (similarly to what we did in Questions 1.21 and 1.22).\n",
    "\n",
    "By using the `K-fold` iterator from Question 1.11 and training data only, estimate the classification accuracy of polynomial SVM classifier, while you vary the `degree` parameter in the range `np.arange(1,8)`. \n",
    "\n",
    "Plot the mean cross-validated classification accuracy against the polynomial degree. Display the highest obtained mean accuracy score and the value of the `degree` parameter which yielded it. Label axes appropriately. \n",
    "\n",
    "Finally, train a classifier by using the optimal value for this parameter (without using cross-validation at this stage) and report the classification accuracy on the training and validation sets. "
   ]
  },
  {
   "cell_type": "code",
   "execution_count": 26,
   "metadata": {},
   "outputs": [
    {
     "data": {
      "image/png": "[encoded data removed]",
      "text/plain": [
       "<matplotlib.figure.Figure at 0x1248b1210>"
      ]
     },
     "metadata": {},
     "output_type": "display_data"
    },
    {
     "name": "stdout",
     "output_type": "stream",
     "text": [
      "Optimal value for degree:                                 1\n",
      "Mean accuracy score for SVM with optimal value of degree: 0.702810105802\n",
      "\n",
      "SVM with optimal value of degree:\n",
      "Classification accuracy on training set:   0.783564261825\n",
      "Classification accuracy on validation set: 0.689128481581\n"
     ]
    }
   ],
   "source": [
    "# Your code goes here\n",
    "deg = np.arange(1,8)\n",
    "acc_sc = np.zeros([3,7])\n",
    "fold = 0\n",
    "\n",
    "for train_index, test_index in kf:\n",
    "    X_train_kf = X_tr_std[train_index, :]\n",
    "    y_train_kf = y_tr[train_index]\n",
    "    X_test_kf = X_tr_std[test_index, :]\n",
    "    y_test_kf = y_tr[test_index]\n",
    "    \n",
    "    for i in range(0,7):\n",
    "        svc_kf = SVC(kernel='poly', degree=deg[i])\n",
    "        svc_kf.fit(X_train_kf, y_train_kf)\n",
    "        acc_sc[fold, i] = svc_kf.score(X_test_kf, y_test_kf)\n",
    "    fold = fold + 1\n",
    "    \n",
    "mean_deg = []\n",
    "for i in range(0,7):\n",
    "    mean_deg.append(np.mean(acc_sc[:,i]))\n",
    "    \n",
    "fig6 = plt.figure(figsize=(12, 8))\n",
    "plt.plot(deg, mean_deg)\n",
    "plt.xlabel('Degree')\n",
    "plt.ylabel('Mean classification accuracy')\n",
    "plt.title('Cross-validation mean classification accuracy of the SVM (\\'poly\\' kernel) against degree of polynomial')\n",
    "plt.show()\n",
    "\n",
    "deg_opt = deg[np.argmax(mean_deg)]\n",
    "print('Optimal value for degree:                                 {}'.format(deg_opt))\n",
    "print('Mean accuracy score for SVM with optimal value of degree: {}'.format(np.max(mean_deg)))\n",
    "\n",
    "svc_opt_deg = SVC(kernel='poly', degree=deg_opt)\n",
    "svc_opt_deg.fit(X_tr_std,y_tr)\n",
    "print('\\nSVM with optimal value of degree:')\n",
    "print('Classification accuracy on training set:   {}'.format(svc_opt_deg.score(X_tr_std, y_tr)))\n",
    "print('Classification accuracy on validation set: {}'.format(svc_opt_deg.score(X_val_std, y_val)))"
   ]
  },
  {
   "cell_type": "markdown",
   "metadata": {},
   "source": [
    "### ========== Question 1.26 --- [4 marks] ==========\n",
    "\n",
    "You might have noticted that so far, we have used cross-validation for optimising the various tuning parameters (e.g. regularisation parameter in logistic regression, SVM kernel parameters) rather than hold-out validation, although we did have access to a validation set. Why do you think this is a good/bad idea? Give one advantage and one disadvantage of the two different approaches. Which one would you trust more in practice?"
   ]
  },
  {
   "cell_type": "markdown",
   "metadata": {},
   "source": [
    "*Your answer goes here*\n",
    "\n",
    "Cross validation sounds like a good idea in this case since we can use our limited data and split it into many (N) training sets to train the classifier N times. This could give us very good results in case of the accuracy and we might better generalistaion. However, this process might be very computationally expensive if the dataset is big or/and our classifier is more complex such as neural network. In neural networks, the cross-validation technique is rarely used due to the computation time constraints.\n",
    "\n",
    "In our case we already had a validation set which was set apart. This is crutial if we want to compare the accuracy of  different models. We need to have a set of data points which none of the models has ever seen before to make the assesment maeningful.\n",
    "\n",
    "\n",
    "Using hold-out validation seems less efficient in this case since we train our model only once (using the training set). This might help us with overfitting (i.e. getting great results on the training set since our classifier fits this data perfectly including its noise and does not perform that well on the data that it hasn't seen previously during the learning process; it is not good in generalising the data). However, since we might have limited resources (i.e. limited amount of data), testing set might not be representative enough (i.e. big enough) to help the model with generalisation.  \n",
    "\n",
    "Hold-out validation can also make the training process much quicker compared to cross-validation since we use a single training set (not N of them as for cross-validation).\n",
    "\n",
    "Considering all pros and cons of both approaches and the fact that we are not constrained by the time of the computation, I would trust cross-validation more (since we have multiple training runs)."
   ]
  },
  {
   "cell_type": "markdown",
   "metadata": {},
   "source": [
    "### ========== Question 1.27 --- [6 marks] ==========\n",
    "\n",
    "Reload the full training and validation data that contain all indicator variables for all object categories. Remove the `imgId` attribute but keep all of the class indicator variables in the dataset this time. Your training features should include all attributes except `is_person` which should be your target variable. \n",
    "\n",
    "Once again, use a [StandardScaler](http://scikit-learn.org/0.17/modules/generated/sklearn.preprocessing.StandardScaler.html) to standardise your training and validation features. Then train a Random Forest Classifier by using the entropy `criterion`, 500 `n_estimators`, and also set the `random_state` to 31. Report the classification accuracy on the training and validation sets.\n",
    "\n",
    "Similarly to what we did in Question 1.18, order the features by decreasing importance and display the 50 most important features. \n",
    "\n",
    "Finally, answer the following questions:\n",
    "* What do you notice by looking at the list of the best 50 features?\n",
    "* How does the performance differ with respect to the case when the additional class indicator variables are not present (Question 1.16)? Relate your observations to the observed feature ranking.\n",
    "* Would it be easy to make use of the results in practice? Briey explain your reasoning.\n",
    "\n",
    "*(Hint: you might want to look at some of the [images](http://www.inf.ed.ac.uk/teaching/courses/iaml/2014/assts/asst3/images.html) to justify your explanations.)*"
   ]
  },
  {
   "cell_type": "code",
   "execution_count": 27,
   "metadata": {},
   "outputs": [
    {
     "name": "stdout",
     "output_type": "stream",
     "text": [
      "Classification accuracy on training set:   1.0\n",
      "Classification accuracy on validation set: 0.711590296496\n"
     ]
    }
   ],
   "source": [
    "# Your code goes here\n",
    "data_path_train = os.path.join(os.getcwd(), 'datasets', 'train_images_partA.csv')\n",
    "train_A = pd.read_csv(data_path_train, delimiter = ',')\n",
    "data_path_valid = os.path.join(os.getcwd(), 'datasets', 'valid_images_partA.csv')\n",
    "valid_A = pd.read_csv(data_path_valid, delimiter = ',')\n",
    "\n",
    "train_A = train_A.drop('imgId', axis=1)\n",
    "valid_A = valid_A.drop('imgId', axis=1)\n",
    "\n",
    "X_tr = train_A.drop('is_person', axis=1)\n",
    "y_tr = train_A['is_person']\n",
    "X_val = valid_A.drop('is_person', axis=1)\n",
    "y_val = valid_A['is_person']\n",
    "\n",
    "ss = StandardScaler()\n",
    "ss.fit(X_tr)\n",
    "X_tr_std = ss.transform(X_tr)\n",
    "X_val_std = ss.transform(X_val)\n",
    "\n",
    "rf = RandomForestClassifier(n_estimators=500, random_state=31, criterion='entropy')\n",
    "rf.fit(X_tr_std,y_tr)\n",
    "print('Classification accuracy on training set:   {}'.format(rf.score(X_tr_std, y_tr)))\n",
    "print('Classification accuracy on validation set: {}'.format(rf.score(X_val_std, y_val)))"
   ]
  },
  {
   "cell_type": "code",
   "execution_count": 28,
   "metadata": {
    "scrolled": true
   },
   "outputs": [
    {
     "name": "stdout",
     "output_type": "stream",
     "text": [
      "Top 50 features (name, importance):\n",
      "\n",
      "is_cat, 0.00937866046417\n",
      "is_bird, 0.00873090561752\n",
      "dim21, 0.00803026824212\n",
      "dim51, 0.00592459377959\n",
      "dim360, 0.00546327073015\n",
      "dim4, 0.00532546357302\n",
      "dim76, 0.0052711094277\n",
      "dim398, 0.00525429129347\n",
      "dim283, 0.00498252146873\n",
      "dim479, 0.00494177091692\n",
      "dim263, 0.00473384053895\n",
      "dim343, 0.00460919112709\n",
      "dim423, 0.00443329414592\n",
      "dim485, 0.00424469000936\n",
      "dim254, 0.0041885823054\n",
      "dim461, 0.00415750397872\n",
      "dim222, 0.00413437713582\n",
      "dim356, 0.00391388758602\n",
      "dim74, 0.00386033674817\n",
      "dim288, 0.00385036568369\n",
      "dim214, 0.00379158693266\n",
      "dim348, 0.00378109590495\n",
      "dim330, 0.00371254853142\n",
      "dim217, 0.00368342678655\n",
      "dim483, 0.00363277470756\n",
      "dim90, 0.00362589036664\n",
      "dim274, 0.00359703031196\n",
      "dim347, 0.00353309971336\n",
      "dim17, 0.00344760831567\n",
      "dim427, 0.00337738812728\n",
      "dim35, 0.00330582207397\n",
      "dim326, 0.00329835746181\n",
      "dim73, 0.00326671426012\n",
      "dim312, 0.00319330779859\n",
      "dim48, 0.00316041020464\n",
      "dim25, 0.00315515871186\n",
      "dim315, 0.00314608584832\n",
      "dim322, 0.00312842465439\n",
      "dim329, 0.00310113680338\n",
      "dim500, 0.00308521987527\n",
      "dim134, 0.00303440634541\n",
      "dim206, 0.00301655914318\n",
      "is_aeroplane, 0.00299790355923\n",
      "dim96, 0.00296789716547\n",
      "dim353, 0.00296498003946\n",
      "dim442, 0.00295199986804\n",
      "dim77, 0.00294289848794\n",
      "dim440, 0.002927260769\n",
      "dim171, 0.00291036250129\n",
      "dim154, 0.00287702889872\n"
     ]
    }
   ],
   "source": [
    "idx = (-(rf.feature_importances_)).argsort()[:50]\n",
    "print('Top 50 features (name, importance):\\n')\n",
    "for i in idx:\n",
    "    print('{}, {}'.format(X_tr.columns.values[i],rf.feature_importances_[i]))"
   ]
  },
  {
   "cell_type": "markdown",
   "metadata": {},
   "source": [
    "*Your answer goes here*\n",
    "\n",
    "The list of the top 50 features look exactly the same as before except the first 2 entries are now `is_cat` and `is_bird` (with the highest importance respectively) and one in the middle (`is_aeroplane`) It might be because, looking at the actual photos, the images containing birds, cats or aeroplanes hardly ever contain a human on the same image.\n",
    "\n",
    "The difference in performance of the 2 classifiers does not differ much. The classification accuracy score on the validation set for the classifier with additional class indicator variables added is 0.711590296496, whereas the corresponding parameter for the classifier with no additional class indicator variables was 0.692722371968. Hence, adding new parameters did not improve classifier's performance significantly. This might be because values for importance of the top 2 newly added attributes are not extremely influencial (not much bigger values for importance as for previous top 2 values).\n",
    "\n",
    "We might think that adding some extra attributes may improve classifier's accuracy. However, in this case the gain in performance was not significant. Hence, this helped us to decide whether to add those extra attributes or not. In this case there's no significant advantage of adding those features (maybe except `is_cat` and `is_bird`). This is useful since more attributes in the dataset means higher dimensionality of the data and more data is needed to accurately train our model."
   ]
  },
  {
   "cell_type": "markdown",
   "metadata": {},
   "source": [
    "## Mini challenge [30%]"
   ]
  },
  {
   "cell_type": "markdown",
   "metadata": {},
   "source": [
    "*Important: You are allowed to write up to a maximum of 600 words in this part of the assignment. The thoroughness of the exploration and the quality of the resulting discussion is just as important as the final classification performance of your chosen method(s) and credit will be divided accordingly.*"
   ]
  },
  {
   "cell_type": "markdown",
   "metadata": {},
   "source": [
    "In this final part of the assignment we will have a mini object-recognition challenge. Using the data provided you are asked to find the best classiffier for the person/no person classification task. You can apply any preprocessing steps to the data that you think fit and employ any classifier you like (with the provison that you can explain what the classifier is/preprocessing steps are doing). You can also employ any lessons learnt during the course, either from previous Assignments, the Labs or the lecture material to try and squeeze out as much performance as you possibly can. The only restriction is that all steps must be performed in `Python` by using the `numpy`, `pandas` and `sklearn` packages. You can also make use of `matplotlib` and `seaborn` for visualisation. "
   ]
  },
  {
   "cell_type": "markdown",
   "metadata": {},
   "source": [
    "**Important:** The classification performance metric that we will use for this part is the *cross-entropy* or *logarithmic loss* (see Lab 4). You should familiarise yourself with the metric by reading the `sklearn` [user guide](http://scikit-learn.org/0.17/modules/model_evaluation.html#log-loss) and [documentation](http://scikit-learn.org/0.17/modules/generated/sklearn.metrics.log_loss.html#sklearn.metrics.log_loss). To estimate this metric you will need to evaluate probability outputs, as opposed to discrete predictions which we have used so far to compute classification accuracies. Most models in `sklearn` implement a `predict_proba()` method which returns the probabilities for each class. For instance, if your test set consists of `N` datapoints and there are `K` classes, the method will return a `N` x `K` matrix."
   ]
  },
  {
   "cell_type": "markdown",
   "metadata": {},
   "source": [
    "We provide you with three new data sets: a training set (`train_images_partB.csv`), a validation set (`valid_images_partB.csv`), and a test set (`test_images_partB.csv`). You must use the former two for training and evaluating your models (as you see fit). Once you have chosen your favourite model (and pre-processing steps) you should apply it to the test set (for which no labels are provided). Estimate the posterior proabilities for the data points in the test set and submit your results as part of your answer. Your results will be evaluated in terms of the logarithmic loss metric. You also need to submit a brief description of the approaches you considered, your suggested final approach, and a short explanation of why you chose it. The thoroughness of the exploration and the quality of the resulting discussion is just as important as the final score of your chosen method(s) and credit will be divided accordingly.\n",
    "\n",
    "*Hint: Feature engineering, feature combination, model combination and model parameter optimization can significantly improve performance.*"
   ]
  },
  {
   "cell_type": "markdown",
   "metadata": {},
   "source": [
    "**How to submit your results**: Store the estimated probabilities for the data points in the test set in a 2D numpy array. Then execute the provided cell at the end of this notebook which uses a provided `save_predictions` function to export your results into a `.txt` file (the function will return an error if the provided array has not the right shape). The `.txt` file will be saved where your notebook lives. Submit this file along with your notebook as detailed at the top of this file."
   ]
  },
  {
   "cell_type": "markdown",
   "metadata": {},
   "source": [
    "*Your answer goes here (max. 600 words)*\n",
    "\n",
    "Our first step was to load the data and then save it into appropriate data frames (`X` with attributes, `y` with targets) and explore their structures (shapes, etc.). We also decided to only consider attributes of `dim1` to `dim500` since only those are contained in the testing set.\n",
    "\n",
    "Next step was to train baseline classifiers. The first one was just a dummy approach of classifying everything as the most frequent class. This gave us very poor results as expected. Hence, we tried an SVM with `rbf` kernel which recorded much lower value of logarithmic loss (0.69).\n",
    "\n",
    "To improve the score further, we used a common pre-processing step of standardisation which simply standardise features by removing the mean and scaling to unit variance (`StandardScaler`). We also created a cross-validation object (`n_folds = 3`) in order to find the best parameters of `gamma` and `C` for our SVM with `rbf` kernel. The ranges used to find optimal values for `gamma` and `C` were picked experimentally (searching bigger ranges and plotting `heatmap`). According to our search, the most optimal value for `gamma` was 0.01 and 10000 for `C`. This yield very encouraging results, dropping the value for `log_loss` to 0.5893.\n",
    "\n",
    "To make further improvements, we decided to consider other available classifiers. Unfortunately, SVM with polynomial kernel recorded pretty poor performance compared to the previous classifier. Our next choice was `LogisticRegressionCV` (aka `MaxEnt`) which implements Logistic Regression with built-in cross-validation to find out the optimal parameter `C`. This gave us encouraging results by reducing the `log_loss` slightly to 0.5849.\n",
    "Nearest-Neighbours classifier did not manage record any improvement whereas Random Forest classifier (trained with different number of trees in the forest) yield slightly lower values for logarithmic loss, however the results were not consistent. Hence, we decided to discourage both of the classifiers.\n",
    "\n",
    "Up to this point we picked two most promising classifiers which recorded the lowest values for `log_loss` (SVM with `rbf` kernel and `LogisticRegressionCV`). To improve on those we tried to pick `n` most influential attributes (with the highest feature importance value). We checked the performance for both classifiers on 50, 100 and 150 most important features with no improvement recorded.\n",
    "\n",
    "The last step was to decide between the two classifiers. The differences in their `log_loss` values were insignificant with slightly lower value recorded for `LogisticRegressionCV` (0.5849 vs. 0.5893). Since SVMs try to minimise a distance metric, they are not probabilistic classifiers and `log_loss` is not a reliable measure of the SVM’s performance. On the other hand, `LogisticRegressionCV` tries to minimise the value of the logarithmic loss explicitly and this was the deciding factor for choosing Logistic Regression classifier over SVM with `rbf` kernel.\n",
    "\n",
    "Another introduced method to improve the classifier’s performance was to join training and validation sets (`train_B` and `valid_B`) to generate new training and validation sets (with exact same number of data points as before) by the `train_test_split`. This was supposed to ensure that our training and validation sets are picked truly at random (not just provided by someone else who might used different criterion on picking each set). However, this did not yield any improvement in the performance of any of the considered classifiers."
   ]
  },
  {
   "cell_type": "code",
   "execution_count": 29,
   "metadata": {
    "collapsed": true
   },
   "outputs": [],
   "source": [
    "from sklearn.model_selection import train_test_split\n",
    "from sklearn.metrics import confusion_matrix, log_loss\n",
    "from sklearn.neighbors import KNeighborsClassifier\n",
    "KNeighboursClassifier = KNeighborsClassifier\n",
    "from sklearn.dummy import DummyClassifier"
   ]
  },
  {
   "cell_type": "code",
   "execution_count": 30,
   "metadata": {
    "collapsed": true
   },
   "outputs": [],
   "source": [
    "# Your code goes here\n",
    "data_path_train = os.path.join(os.getcwd(), 'datasets', 'train_images_partB.csv')\n",
    "train_B = pd.read_csv(data_path_train, delimiter = ',')\n",
    "\n",
    "data_path_valid = os.path.join(os.getcwd(), 'datasets', 'valid_images_partB.csv')\n",
    "valid_B = pd.read_csv(data_path_valid, delimiter = ',')\n",
    "\n",
    "#Don't touch this for now!!!\n",
    "data_path_test = os.path.join(os.getcwd(), 'datasets', 'test_images_partB.csv')\n",
    "test_B = pd.read_csv(data_path_test, delimiter = ',')"
   ]
  },
  {
   "cell_type": "code",
   "execution_count": 31,
   "metadata": {
    "collapsed": true
   },
   "outputs": [],
   "source": [
    "#Since the test set contains only attributes of 'dim1'-'dim500' we will only consider those\n",
    "names = train_B.columns[1:501].values.tolist()\n",
    "X_tr = train_B[names]\n",
    "y_tr = train_B['is_person']\n",
    "X_val = valid_B[names]\n",
    "y_val = valid_B['is_person']"
   ]
  },
  {
   "cell_type": "code",
   "execution_count": 32,
   "metadata": {},
   "outputs": [
    {
     "name": "stdout",
     "output_type": "stream",
     "text": [
      "16.3539399462\n"
     ]
    }
   ],
   "source": [
    "#Dummy classifier:\n",
    "dummy_classifier = DummyClassifier(strategy='most_frequent').fit(X_tr, y_tr)\n",
    "pred_proba = dummy_classifier.predict_proba(X_val)\n",
    "this_logloss = log_loss(y_val, pred_proba)\n",
    "print(this_logloss)"
   ]
  },
  {
   "cell_type": "code",
   "execution_count": 33,
   "metadata": {},
   "outputs": [
    {
     "name": "stdout",
     "output_type": "stream",
     "text": [
      "SVM with radial basis function kernel:\n",
      "Classification accuracy on training set:   0.555134879319\n",
      "Classification accuracy on validation set: 0.526504941599\n",
      "Log loss on validation set:                0.69295865404\n"
     ]
    }
   ],
   "source": [
    "#Baseline classifier:\n",
    "svc_rbf = SVC(kernel='rbf', probability=True)\n",
    "svc_rbf.fit(X_tr, y_tr)\n",
    "pred_proba = svc_rbf.predict_proba(X_val)\n",
    "\n",
    "print('SVM with radial basis function kernel:')\n",
    "print('Classification accuracy on training set:   {}'.format(svc_rbf.score(X_tr, y_tr)))\n",
    "print('Classification accuracy on validation set: {}'.format(svc_rbf.score(X_val, y_val)))\n",
    "print('Log loss on validation set:                {}'.format(log_loss(y_val, pred_proba)))"
   ]
  },
  {
   "cell_type": "code",
   "execution_count": 34,
   "metadata": {
    "collapsed": true
   },
   "outputs": [],
   "source": [
    "# train = [train_B, valid_B]\n",
    "# training_set = pd.concat(train)"
   ]
  },
  {
   "cell_type": "code",
   "execution_count": 35,
   "metadata": {
    "collapsed": true
   },
   "outputs": [],
   "source": [
    "#To make sure that training and validation sets are selected at random, we will randomly select them ourselves\n",
    "# X_tr = training_set[names]\n",
    "# y_tr = training_set['is_person']\n",
    "# X_tr, X_val, y_tr, y_val = train_test_split(X_tr, y_tr, train_size=0.655, test_size=0.345, random_state=0)\n",
    "\n",
    "# svc_rbf = SVC(kernel='rbf')\n",
    "# svc_rbf.fit(X_tr, y_tr)\n",
    "\n",
    "# #Now our classifier performs slightly better on the validation set\n",
    "# print('SVM with radial basis function kernel:')\n",
    "# print('Classification accuracy on training set:   {}'.format(svc_rbf.score(X_tr, y_tr)))\n",
    "# print('Classification accuracy on validation set: {}'.format(svc_rbf.score(X_val, y_val)))"
   ]
  },
  {
   "cell_type": "code",
   "execution_count": 36,
   "metadata": {
    "collapsed": true
   },
   "outputs": [],
   "source": [
    "#Scaling:\n",
    "ss = StandardScaler()\n",
    "ss.fit(X_tr)\n",
    "X_tr = ss.transform(X_tr)\n",
    "X_val = ss.transform(X_val)"
   ]
  },
  {
   "cell_type": "code",
   "execution_count": 37,
   "metadata": {
    "collapsed": true
   },
   "outputs": [],
   "source": [
    "#Cross-validation:\n",
    "kf = KFold(len(X_tr) , n_folds=3, shuffle=True, random_state=0)"
   ]
  },
  {
   "cell_type": "code",
   "execution_count": 38,
   "metadata": {
    "scrolled": true
   },
   "outputs": [
    {
     "name": "stdout",
     "output_type": "stream",
     "text": [
      "0.01 100.0 0.556028368794\n",
      "0.01 1000.0 0.695035460993\n",
      "0.01 10000.0 0.697872340426\n",
      "0.01 100000.0 0.63829787234\n",
      "0.1 100.0 0.695035460993\n",
      "0.1 1000.0 0.696453900709\n",
      "0.1 10000.0 0.635460992908\n",
      "0.1 100000.0 0.612765957447\n",
      "1.0 100.0 0.696453900709\n",
      "1.0 1000.0 0.629787234043\n",
      "1.0 10000.0 0.607092198582\n",
      "1.0 100000.0 0.6\n",
      "10.0 100.0 0.651063829787\n",
      "10.0 1000.0 0.621276595745\n",
      "10.0 10000.0 0.621276595745\n",
      "10.0 100000.0 0.621276595745\n",
      "0.01 100.0 0.553977272727\n",
      "0.01 1000.0 0.664772727273\n",
      "0.01 10000.0 0.680397727273\n",
      "0.01 100000.0 0.660511363636\n",
      "0.1 100.0 0.664772727273\n",
      "0.1 1000.0 0.683238636364\n",
      "0.1 10000.0 0.649147727273\n",
      "0.1 100000.0 0.636363636364\n",
      "1.0 100.0 0.678977272727\n",
      "1.0 1000.0 0.65625\n",
      "1.0 10000.0 0.636363636364\n",
      "1.0 100000.0 0.632102272727\n",
      "10.0 100.0 0.65625\n",
      "10.0 1000.0 0.650568181818\n",
      "10.0 10000.0 0.650568181818\n",
      "10.0 100000.0 0.650568181818\n",
      "0.01 100.0 0.551136363636\n",
      "0.01 1000.0 0.694602272727\n",
      "0.01 10000.0 0.693181818182\n",
      "0.01 100000.0 0.654829545455\n",
      "0.1 100.0 0.696022727273\n",
      "0.1 1000.0 0.688920454545\n",
      "0.1 10000.0 0.657670454545\n",
      "0.1 100000.0 0.633522727273\n",
      "1.0 100.0 0.690340909091\n",
      "1.0 1000.0 0.661931818182\n",
      "1.0 10000.0 0.653409090909\n",
      "1.0 100000.0 0.632102272727\n",
      "10.0 100.0 0.666193181818\n",
      "10.0 1000.0 0.637784090909\n",
      "10.0 10000.0 0.637784090909\n",
      "10.0 100000.0 0.637784090909\n"
     ]
    }
   ],
   "source": [
    "#SVM('rbf'):\n",
    "c = np.logspace(2, 5, 4)\n",
    "g = np.logspace(-2, 1, 4)\n",
    "acc_sc = np.zeros([3,4,4])\n",
    "fold = 0\n",
    "\n",
    "for train_index, test_index in kf:\n",
    "    X_train_kf = X_tr[train_index]\n",
    "    y_train_kf = y_tr[train_index]\n",
    "    X_test_kf = X_tr[test_index]\n",
    "    y_test_kf = y_tr[test_index]\n",
    "    \n",
    "    for i_g in range(0,4):\n",
    "        for i_c in range(0,4):\n",
    "            svc_kf = SVC(kernel='rbf', gamma=g[i_g], C=c[i_c])\n",
    "            svc_kf.fit(X_train_kf, y_train_kf)\n",
    "            acc_sc[fold, i_c, i_g] = svc_kf.score(X_test_kf, y_test_kf)\n",
    "            print(g[i_g], c[i_c], svc_kf.score(X_test_kf, y_test_kf))\n",
    "    fold = fold + 1"
   ]
  },
  {
   "cell_type": "code",
   "execution_count": 39,
   "metadata": {},
   "outputs": [
    {
     "name": "stdout",
     "output_type": "stream",
     "text": [
      "Optimal value for gamma:                                       0.01\n",
      "Optimal value for C:                                           10000.0\n",
      "\n",
      "SVM with optimal value of gamma and C:\n",
      "Classification accuracy on training set:   0.782300047326\n",
      "Classification accuracy on validation set: 0.692722371968\n",
      "Log loss on validation set:                0.58989578368\n"
     ]
    }
   ],
   "source": [
    "mean_gc = np.zeros([4,4])\n",
    "for i in range(0,4):\n",
    "    for j in range(0,4):\n",
    "        mean_gc[i,j] = np.mean(acc_sc[:,i,j])\n",
    "\n",
    "opt = np.argmax(mean_gc)\n",
    "i,j = divmod(opt,4)\n",
    "\n",
    "g_opt = g[j]\n",
    "c_opt = c[i]\n",
    "print('Optimal value for gamma:                                       {}'.format(g_opt))\n",
    "print('Optimal value for C:                                           {}'.format(c_opt))\n",
    "\n",
    "svc_opt_gc = SVC(kernel='rbf', gamma=g_opt, C=c_opt,probability=True)\n",
    "svc_opt_gc.fit(X_tr,y_tr)\n",
    "pred_proba = svc_opt_gc.predict_proba(X_val)\n",
    "print('\\nSVM with optimal value of gamma and C:')\n",
    "print('Classification accuracy on training set:   {}'.format(svc_opt_gc.score(X_tr, y_tr)))\n",
    "print('Classification accuracy on validation set: {}'.format(svc_opt_gc.score(X_val, y_val)))\n",
    "print('Log loss on validation set:                {}'.format(log_loss(y_val, pred_proba)))"
   ]
  },
  {
   "cell_type": "code",
   "execution_count": 40,
   "metadata": {
    "collapsed": true
   },
   "outputs": [],
   "source": [
    "#SVM('poly'):"
   ]
  },
  {
   "cell_type": "code",
   "execution_count": 41,
   "metadata": {
    "collapsed": true
   },
   "outputs": [],
   "source": [
    "# deg = [5,10,15,20,25,30,35]#np.arange(1,8)\n",
    "# acc_sc = np.zeros([3,7])\n",
    "# fold = 0\n",
    "\n",
    "# for train_index, test_index in kf:\n",
    "#     X_train_kf = X_tr[train_index]\n",
    "#     y_train_kf = y_tr[train_index]\n",
    "#     X_test_kf = X_tr[test_index]\n",
    "#     y_test_kf = y_tr[test_index]\n",
    "    \n",
    "#     for i in range(0,7):\n",
    "#         svc_kf = SVC(kernel='poly', degree=deg[i])\n",
    "#         svc_kf.fit(X_train_kf, y_train_kf)\n",
    "#         acc_sc[fold, i] = svc_kf.score(X_test_kf, y_test_kf)\n",
    "#         print(deg[i], svc_kf.score(X_test_kf, y_test_kf))\n",
    "#     fold = fold + 1"
   ]
  },
  {
   "cell_type": "code",
   "execution_count": 42,
   "metadata": {
    "collapsed": true
   },
   "outputs": [],
   "source": [
    "# mean_deg = []\n",
    "# for i in range(0,7):\n",
    "#     mean_deg.append(np.mean(acc_sc[:,i]))\n",
    "    \n",
    "# deg_opt = deg[np.argmax(mean_deg)]\n",
    "# print('Optimal value for degree:                                 {}'.format(deg_opt))\n",
    "# print('Mean accuracy score for SVM with optimal value of degree: {}'.format(np.max(mean_deg)))\n",
    "\n",
    "# svc_opt_deg = SVC(kernel='poly', degree=deg_opt)\n",
    "# svc_opt_deg.fit(X_tr,y_tr)\n",
    "# print('\\nSVM with optimal value of degree:')\n",
    "# print('Classification accuracy on training set:   {}'.format(svc_opt_deg.score(X_tr, y_tr)))\n",
    "# print('Classification accuracy on validation set: {}'.format(svc_opt_deg.score(X_val, y_val)))"
   ]
  },
  {
   "cell_type": "code",
   "execution_count": 43,
   "metadata": {
    "collapsed": true
   },
   "outputs": [],
   "source": [
    "#Logistic Regression:"
   ]
  },
  {
   "cell_type": "code",
   "execution_count": 44,
   "metadata": {},
   "outputs": [
    {
     "name": "stdout",
     "output_type": "stream",
     "text": [
      "Optimal value for C:                                   168.984978681\n",
      "Classification accuracy on validation set:             0.686433063792\n",
      "Log loss on validation set:                            0.584952379579\n"
     ]
    }
   ],
   "source": [
    "c = np.logspace(0,4,80)\n",
    "lrCV = LogisticRegressionCV(solver='lbfgs', Cs=c, cv=kf)\n",
    "lrCV.fit(X_tr,y_tr)\n",
    "pred_proba = lrCV.predict_proba(X_val)\n",
    "print('Optimal value for C:                                   {}'.format(lrCV.C_[0]))\n",
    "print('Classification accuracy on validation set:             {}'.format(lrCV.score(X_val, y_val)))\n",
    "print('Log loss on validation set:                            {}'.format(log_loss(y_val, pred_proba)))"
   ]
  },
  {
   "cell_type": "code",
   "execution_count": 45,
   "metadata": {
    "scrolled": false
   },
   "outputs": [
    {
     "name": "stdout",
     "output_type": "stream",
     "text": [
      "Performance on test with 5 nearest neighbours: 1.54835536685\n",
      "Performance on test with 10 nearest neighbours: 0.797307256329\n",
      "Performance on test with 15 nearest neighbours: 0.648707272867\n",
      "Performance on test with 20 nearest neighbours: 0.619805122252\n",
      "Performance on test with 25 nearest neighbours: 0.619258924052\n",
      "Performance on test with 30 nearest neighbours: 0.624965202132\n",
      "Performance on test with 35 nearest neighbours: 0.623472017682\n",
      "Performance on test with 40 nearest neighbours: 0.62437522525\n",
      "Performance on test with 45 nearest neighbours: 0.624744919975\n",
      "Performance on test with 50 nearest neighbours: 0.624023471637\n",
      "Performance on test with 55 nearest neighbours: 0.623302168051\n",
      "Performance on test with 60 nearest neighbours: 0.622062731021\n",
      "Performance on test with 65 nearest neighbours: 0.623178789583\n",
      "Performance on test with 70 nearest neighbours: 0.622586759895\n",
      "Performance on test with 75 nearest neighbours: 0.623204472633\n",
      "Performance on test with 80 nearest neighbours: 0.625109829021\n",
      "Performance on test with 85 nearest neighbours: 0.625741729234\n",
      "Performance on test with 90 nearest neighbours: 0.626720205045\n",
      "Performance on test with 95 nearest neighbours: 0.626731986122\n",
      "Performance on test with 100 nearest neighbours: 0.626815971677\n"
     ]
    }
   ],
   "source": [
    "#NN:\n",
    "k_list = np.arange(5,105,5)\n",
    "for k in k_list:\n",
    "    knn = KNeighborsClassifier(n_neighbors=k).fit(X_tr, y_tr)\n",
    "#     score = knn.score(X_val,y_val)\n",
    "    pred_proba = knn.predict_proba(X_val)\n",
    "    print('Performance on test with {} nearest neighbours: {}'.format(k, log_loss(y_val, pred_proba)))"
   ]
  },
  {
   "cell_type": "code",
   "execution_count": 46,
   "metadata": {
    "collapsed": true
   },
   "outputs": [],
   "source": [
    "#Random Forest:"
   ]
  },
  {
   "cell_type": "code",
   "execution_count": 47,
   "metadata": {},
   "outputs": [
    {
     "name": "stdout",
     "output_type": "stream",
     "text": [
      "Classification accuracy on validation set (n = 100): 0.589715224078\n",
      "Classification accuracy on validation set (n = 200): 0.585414936974\n",
      "Classification accuracy on validation set (n = 300): 0.584290719998\n",
      "Classification accuracy on validation set (n = 400): 0.58405530076\n",
      "Classification accuracy on validation set (n = 500): 0.583220494377\n",
      "Classification accuracy on validation set (n = 600): 0.583604616269\n",
      "Classification accuracy on validation set (n = 700): 0.584241626611\n",
      "Classification accuracy on validation set (n = 800): 0.583715628441\n",
      "Classification accuracy on validation set (n = 900): 0.583728451695\n",
      "Classification accuracy on validation set (n = 1000): 0.583750198813\n",
      "Classification accuracy on validation set (n = 1100): 0.583657977007\n",
      "Classification accuracy on validation set (n = 1200): 0.58367006052\n",
      "Classification accuracy on validation set (n = 1300): 0.583857941\n",
      "Classification accuracy on validation set (n = 1400): 0.584093302444\n"
     ]
    }
   ],
   "source": [
    "n = np.arange(100,1500,100)\n",
    "for i in n:\n",
    "    rf = RandomForestClassifier(n_estimators=i, random_state=42)\n",
    "    rf.fit(X_tr,y_tr)\n",
    "    pred_proba = rf.predict_proba(X_val)\n",
    "    print('Classification accuracy on validation set (n = {}): {}'.format(i,log_loss(y_val, pred_proba)))"
   ]
  },
  {
   "cell_type": "code",
   "execution_count": 48,
   "metadata": {
    "collapsed": true
   },
   "outputs": [],
   "source": [
    "# Picking top 100 most important features"
   ]
  },
  {
   "cell_type": "code",
   "execution_count": 49,
   "metadata": {
    "scrolled": true
   },
   "outputs": [
    {
     "name": "stdout",
     "output_type": "stream",
     "text": [
      "Top 100 features (importance):\n",
      "\n",
      "0.00697143156165\n",
      "0.00686251690731\n",
      "0.00684298912274\n",
      "0.00624278628705\n",
      "0.00606478452612\n",
      "0.00585908982184\n",
      "0.00536020203347\n",
      "0.00533108257605\n",
      "0.00512452487665\n",
      "0.0049204371753\n",
      "0.00455406866076\n",
      "0.00450377641674\n",
      "0.00439202998569\n",
      "0.0043815275545\n",
      "0.00434387186586\n",
      "0.00431570780426\n",
      "0.00429266058478\n",
      "0.00420097093391\n",
      "0.00412979657963\n",
      "0.00405487801497\n",
      "0.00404387577142\n",
      "0.00401632620148\n",
      "0.00399578809439\n",
      "0.00397405586613\n",
      "0.00387445521336\n",
      "0.00379776927784\n",
      "0.00378644439793\n",
      "0.00367220234932\n",
      "0.00365326457606\n",
      "0.00357897046379\n",
      "0.0035729678533\n",
      "0.00356540635303\n",
      "0.00355779934836\n",
      "0.00346059480977\n",
      "0.00338054220409\n",
      "0.00333454120648\n",
      "0.00332256270212\n",
      "0.00328073575249\n",
      "0.00320776645915\n",
      "0.00317247050844\n",
      "0.00315729664122\n",
      "0.00315166814654\n",
      "0.00313454009796\n",
      "0.00313176935296\n",
      "0.00309082040455\n",
      "0.00308500327425\n",
      "0.00305223906282\n",
      "0.00301032443916\n",
      "0.00300045387003\n",
      "0.00295501637108\n",
      "0.00291713622331\n",
      "0.00290057547631\n",
      "0.00285805794599\n",
      "0.00285747857384\n",
      "0.00285585867765\n",
      "0.00282679418649\n",
      "0.00279432428035\n",
      "0.00278034209477\n",
      "0.00274723525479\n",
      "0.00272284516369\n",
      "0.00271445786118\n",
      "0.00271013638883\n",
      "0.00268697454413\n",
      "0.00268166842188\n",
      "0.00267630893001\n",
      "0.00266407619273\n",
      "0.00265448759976\n",
      "0.00264674285751\n",
      "0.00262704465151\n",
      "0.00262316513709\n",
      "0.00258694159357\n",
      "0.00256713929687\n",
      "0.00255259842422\n",
      "0.00253823127179\n",
      "0.00253110067086\n",
      "0.00250655768809\n",
      "0.00246967038416\n",
      "0.00246473492813\n",
      "0.00245901156655\n",
      "0.00243361165945\n",
      "0.00242403161071\n",
      "0.00242154691067\n",
      "0.0024181917815\n",
      "0.00241117650957\n",
      "0.00240052404207\n",
      "0.00239737405118\n",
      "0.00239552610794\n",
      "0.00239417377769\n",
      "0.00236620329006\n",
      "0.00236043478898\n",
      "0.00234537778324\n",
      "0.00233008058217\n",
      "0.00232663023212\n",
      "0.00231366436577\n",
      "0.00230290497881\n",
      "0.0022989600119\n",
      "0.00228903922165\n",
      "0.00226553516827\n",
      "0.00226381560718\n",
      "0.00226299510297\n"
     ]
    }
   ],
   "source": [
    "rf = RandomForestClassifier(n_estimators=500, random_state=42)\n",
    "rf.fit(X_tr,y_tr)\n",
    "idx = (-(rf.feature_importances_)).argsort()[:100]\n",
    "print('Top 100 features (importance):\\n')\n",
    "for i in idx:\n",
    "    print('{}'.format(rf.feature_importances_[i]))"
   ]
  },
  {
   "cell_type": "code",
   "execution_count": 51,
   "metadata": {},
   "outputs": [],
   "source": [
    "# a = X_tr.columns[idx].values.tolist()\n",
    "# b = X_tr[a]\n",
    "# c = np.logspace(0,4,80)\n",
    "# lrCV = LogisticRegressionCV(solver='lbfgs', Cs=c, cv=kf)\n",
    "# lrCV.fit(b,y_tr)\n",
    "# pred_proba = lrCV.predict_proba(X_val[a])\n",
    "# print('Optimal value for C:                                   {}'.format(lrCV.C_[0]))\n",
    "# print('Classification accuracy on validation set:             {}'.format(lrCV.score(X_val[a], y_val)))\n",
    "# print('Log loss on validation set:                            {}'.format(log_loss(y_val, pred_proba)))"
   ]
  },
  {
   "cell_type": "code",
   "execution_count": null,
   "metadata": {
    "collapsed": true
   },
   "outputs": [],
   "source": []
  },
  {
   "cell_type": "code",
   "execution_count": null,
   "metadata": {
    "collapsed": true
   },
   "outputs": [],
   "source": [
    "#Train the best classifier:"
   ]
  },
  {
   "cell_type": "code",
   "execution_count": 52,
   "metadata": {},
   "outputs": [
    {
     "name": "stdout",
     "output_type": "stream",
     "text": [
      "Optimal value for C:                                   168.984978681\n",
      "Classification accuracy on validation set:             0.686433063792\n",
      "Log loss on validation set:                            0.584952379579\n"
     ]
    }
   ],
   "source": [
    "c = np.logspace(0,4,80)\n",
    "lrCV = LogisticRegressionCV(solver='lbfgs', Cs=c, cv=kf)\n",
    "lrCV.fit(X_tr,y_tr)\n",
    "pred_proba = lrCV.predict_proba(X_val)\n",
    "print('Optimal value for C:                                   {}'.format(lrCV.C_[0]))\n",
    "print('Classification accuracy on validation set:             {}'.format(lrCV.score(X_val, y_val)))\n",
    "print('Log loss on validation set:                            {}'.format(log_loss(y_val, pred_proba)))"
   ]
  },
  {
   "cell_type": "code",
   "execution_count": 79,
   "metadata": {
    "collapsed": true
   },
   "outputs": [],
   "source": [
    "X_test = ss.transform(test_B.drop('is_person', axis=1))"
   ]
  },
  {
   "cell_type": "code",
   "execution_count": 80,
   "metadata": {
    "collapsed": true
   },
   "outputs": [],
   "source": [
    "pred_proba = lrCV.predict_proba(X_test)"
   ]
  },
  {
   "cell_type": "code",
   "execution_count": 81,
   "metadata": {
    "collapsed": true
   },
   "outputs": [],
   "source": [
    "# Execute this cell to export your results\n",
    "from numpy import savetxt\n",
    "def save_predictions(pred_proba):\n",
    "    if pred_proba.shape != (1114,2):\n",
    "        raise ValueError('Predicted probabilities array is not the right shape.')\n",
    "    \n",
    "    savetxt('assignment_3_predictions.txt', pred_proba)\n",
    "\n",
    "# You need to replace \"test_images_partB_pred_proba\"\n",
    "# with the name of the array which contains the probability \n",
    "# estimates for the data in the test set.\n",
    "save_predictions(pred_proba) "
   ]
  },
  {
   "cell_type": "code",
   "execution_count": null,
   "metadata": {
    "collapsed": true
   },
   "outputs": [],
   "source": []
  },
  {
   "cell_type": "markdown",
   "metadata": {
    "collapsed": true
   },
   "source": [
    "# Appendix"
   ]
  },
  {
   "cell_type": "markdown",
   "metadata": {},
   "source": [
    "## More information about visual words"
   ]
  },
  {
   "cell_type": "markdown",
   "metadata": {},
   "source": [
    "Visual words are based on [Scale-invariant feature transforms (SIFT)](https://en.wikipedia.org/wiki/Scale-invariant_feature_transform). SIFT features are essentially local orientation histograms and capture the properties of small image regions. They possess attractive invariance properties which make them well suited for our task (you can read more about SIFT features in [D.Lowe, IJCV 60(2):91- 110, 2004](http://link.springer.com/article/10.1023/B:VISI.0000029664.99615.94), but the details don't matter for the purpose of this assignment). Each SIFT feature is a 128 dimensional vector. From each image many SIFT features are extracted, typically > 2500 per image (features are extracted at regular intervals using a 15 pixel grid and at 4 different scales). To obtain visual words a representative subset of all extracted SIFT features from all images is chosen and clustered with k-means using 500 centres (such use of the k-means algorithm will be discussed in detail during the lecture). These 500 cluster centres form our visual words. The representation of a single image is obtained by first assigning each SIFT feature extracted from the image to the appropriate cluster (i.e. we determine the visual word corresponding to each feature by picking the closest cluster centre). We then count the number of features from that image assigned to each cluster (i.e. we determine how often each visual word is present in the image). This results in a 500 dimensional count vector for each image (one dimension for each visual word). The normalized version of this count vector gives the final representation of the image (normalized means that we divide the count vector by the total number of visual words in the image, i.e. the normalized counts sum to 1 for each image)"
   ]
  }
 ],
 "metadata": {
  "anaconda-cloud": {},
  "kernelspec": {
   "display_name": "Python 2",
   "language": "python",
   "name": "python2"
  },
  "language_info": {
   "codemirror_mode": {
    "name": "ipython",
    "version": 2
   },
   "file_extension": ".py",
   "mimetype": "text/x-python",
   "name": "python",
   "nbconvert_exporter": "python",
   "pygments_lexer": "ipython2",
   "version": "2.7.13"
  }
 },
 "nbformat": 4,
 "nbformat_minor": 1
}
